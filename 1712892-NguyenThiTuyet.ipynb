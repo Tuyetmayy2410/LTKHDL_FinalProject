{
 "cells": [
  {
   "cell_type": "markdown",
   "metadata": {},
   "source": [
    "# ĐỒ ÁN CUỐI KỲ MÔN HỌC LẬP TRÌNH KHOA HỌC DỮ LIỆU\n",
    "\n",
    "# PHÂN TÍCH DỮ LIỆU AIRNBN TẠI TOKYO NHẬT BẢN (2019 - 2020)\n",
    "\n",
    "GVHD: TRẦN TRUNG KIÊN - PHAN THỊ PHƯƠNG UYÊN\n",
    "\n",
    "HỌ VÀ TÊN: NGUYỄN THỊ TUYẾT\n",
    "\n",
    "MSSV: 1712892"
   ]
  },
  {
   "cell_type": "code",
   "execution_count": null,
   "metadata": {},
   "outputs": [],
   "source": []
  }
 ],
 "metadata": {
  "kernelspec": {
   "display_name": "Python 3",
   "language": "python",
   "name": "python3"
  },
  "language_info": {
   "codemirror_mode": {
    "name": "ipython",
    "version": 3
   },
   "file_extension": ".py",
   "mimetype": "text/x-python",
   "name": "python",
   "nbconvert_exporter": "python",
   "pygments_lexer": "ipython3",
   "version": "3.7.1"
  }
 },
 "nbformat": 4,
 "nbformat_minor": 2
}
