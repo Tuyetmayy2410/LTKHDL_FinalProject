{
 "cells": [
  {
   "cell_type": "markdown",
   "metadata": {},
   "source": [
    "# ĐỒ ÁN CUỐI KỲ MÔN HỌC LẬP TRÌNH KHOA HỌC DỮ LIỆU\n",
    "\n",
    "# PHÂN TÍCH DỮ LIỆU AIRNBN TẠI TOKYO NHẬT BẢN (2019 - 2020)\n",
    "\n",
    "GVHD: TRẦN TRUNG KIÊN - PHAN THỊ PHƯƠNG UYÊN\n",
    "\n",
    "HỌ VÀ TÊN: NGUYỄN THỊ TUYẾT\n",
    "\n",
    "MSSV: 1712892"
   ]
  },
  {
   "cell_type": "markdown",
   "metadata": {},
   "source": [
    "## I. TỔNG QUAN VỀ ĐỀ TÀI PHÂN TÍCH\n",
    "\n",
    " ## Đề tài: Phân tích dữ liệu AIRBNB tại Tokyo (Nhật Bản) \n",
    " **Định nghĩa AIRBNB là gì?**\n",
    " \n",
    " Airbnb là viết tắt của cụm từ AirBed and Breakfast – một start-up với mô hình kinh doanh kết nối người cần thuê nhà, đặt phòng nghỉ với những người có phòng cho thuê trên khắp thế giới thông qua ứng dụng di động. Tất cả việc thanh toán sẽ được thực hiện thông qua Airbnb, sử dụng thẻ tín dụng và nhà trung gian này sẽ thu một khoản phí đối với cả người cần đặt phòng và chủ nhà. \n",
    " \n",
    " Tháng 8/2008, hai sinh viên ngành Thiết kế tại San Francisco đã chia một phần căn hộ mình ra cho khách du lịch thuê. Sau đó, khi nhận thấy tiềm năng của mô hình này, hai sinh viên đã kêu gọi thêm những người bạn của mình thành lập website, phát triển Airbnb thành một địa chỉ đặt phòng uy tín, được nhiều người lựa chọn. Hiện tại, Airbnb đã có mặt ở hơn 190 quốc gia.\n",
    "\n",
    "**Lí do chọn đề tài**\n",
    "\n",
    "Nếu là một tín đồ của du lịch thì chắc hẳn việc \"đau đầu\" mà chúng ta gặp phải khi lên kế hoạch cho chuyến du lịch luôn là việc tìm chỗ \"dừng chân\" thích hợp trong suốt chuyến đi. Mọi chuyện sẽ trở nên dễ dàng hơn nếu bạn sử dụng AIRBNB. Vì thế, tôi chọn đề tài này để phân tích nhằm giúp bản thân cũng như mọi người hiểu rõ hơn về AIRBNB, góp phần giúp AIRBNB trở nên phổ biến hơn ở Việt Nam trong tương lai. Vì sao lại chọn dữ liệu AIRBNB tại Nhật Bản ? Do AIRBNB vẫn chưa phát triển mạnh ở Việt Nam nên chưa có số liệu thống kê tại Việt Nam, bên cạnh đó thì trong khu vực Châu Á, Nhật bản là một trong những quốc gia có nền du lịch phát triển nhất, hằng năm đều thu hút một lượng lớn khách du lịch đổ về."
   ]
  },
  {
   "cell_type": "markdown",
   "metadata": {},
   "source": [
    "# II. TIẾN HÀNH PHÂN TÍCH DỮ LIỆU\n",
    "\n",
    "## 1. Lấy dữ liệu:\n",
    "\n",
    "- Dữ liệu đuợc sử dụng trong đồ án này là file \"listings.csv\" và file \"calendar.csv\"(bản được update vào 30/08/2019). \"listings.csv\" là dữ liệu của Airbnb về danh sách các địa điểm cho thuê phòng ở Tokyo (Nhật Bản) bao gồm những thông tin chủ yếu như: Tên chủ cho thuê, Địa chỉ cho thuê, Loại Phòng, Giá Tiền, Đánh giá của khách,...  Còn \"calendar.csv\" là dữ liệu lịch cho các danh sách địa điểm cho thuê bao gồm:những ngày phòng còn trống, giá thuê phòng mỗi ngày,.. Nguồn dữ liệu được lấy tại http://insideairbnb.com/get-the-data.html"
   ]
  },
  {
   "cell_type": "markdown",
   "metadata": {},
   "source": [
    "## 2. Khám phá dữ liệu:"
   ]
  },
  {
   "cell_type": "markdown",
   "metadata": {},
   "source": [
    "### Import"
   ]
  },
  {
   "cell_type": "code",
   "execution_count": 1,
   "metadata": {},
   "outputs": [],
   "source": [
    "import numpy as np\n",
    "import pandas as pd\n",
    "import matplotlib.pyplot as plt\n",
    "import seaborn as sns"
   ]
  },
  {
   "cell_type": "markdown",
   "metadata": {},
   "source": [
    "### Đọc dữ liệu từ file listings.csv vào Dataframe"
   ]
  },
  {
   "cell_type": "code",
   "execution_count": 2,
   "metadata": {},
   "outputs": [
    {
     "name": "stderr",
     "output_type": "stream",
     "text": [
      "C:\\Users\\User\\Anaconda3\\lib\\site-packages\\IPython\\core\\interactiveshell.py:3020: DtypeWarning: Columns (61,62) have mixed types. Specify dtype option on import or set low_memory=False.\n",
      "  interactivity=interactivity, compiler=compiler, result=result)\n"
     ]
    },
    {
     "data": {
      "text/html": [
       "<div>\n",
       "<style scoped>\n",
       "    .dataframe tbody tr th:only-of-type {\n",
       "        vertical-align: middle;\n",
       "    }\n",
       "\n",
       "    .dataframe tbody tr th {\n",
       "        vertical-align: top;\n",
       "    }\n",
       "\n",
       "    .dataframe thead th {\n",
       "        text-align: right;\n",
       "    }\n",
       "</style>\n",
       "<table border=\"1\" class=\"dataframe\">\n",
       "  <thead>\n",
       "    <tr style=\"text-align: right;\">\n",
       "      <th></th>\n",
       "      <th>id</th>\n",
       "      <th>listing_url</th>\n",
       "      <th>scrape_id</th>\n",
       "      <th>last_scraped</th>\n",
       "      <th>name</th>\n",
       "      <th>summary</th>\n",
       "      <th>space</th>\n",
       "      <th>description</th>\n",
       "      <th>experiences_offered</th>\n",
       "      <th>neighborhood_overview</th>\n",
       "      <th>...</th>\n",
       "      <th>instant_bookable</th>\n",
       "      <th>is_business_travel_ready</th>\n",
       "      <th>cancellation_policy</th>\n",
       "      <th>require_guest_profile_picture</th>\n",
       "      <th>require_guest_phone_verification</th>\n",
       "      <th>calculated_host_listings_count</th>\n",
       "      <th>calculated_host_listings_count_entire_homes</th>\n",
       "      <th>calculated_host_listings_count_private_rooms</th>\n",
       "      <th>calculated_host_listings_count_shared_rooms</th>\n",
       "      <th>reviews_per_month</th>\n",
       "    </tr>\n",
       "  </thead>\n",
       "  <tbody>\n",
       "    <tr>\n",
       "      <th>0</th>\n",
       "      <td>35303</td>\n",
       "      <td>https://www.airbnb.com/rooms/35303</td>\n",
       "      <td>20190831051057</td>\n",
       "      <td>2019-08-31</td>\n",
       "      <td>La Casa Gaienmae C Harajuku, Omotesando is nearby</td>\n",
       "      <td>This shared flat is locating at very close to ...</td>\n",
       "      <td>This apartment is 3 bedroom flat shared with t...</td>\n",
       "      <td>This shared flat is locating at very close to ...</td>\n",
       "      <td>none</td>\n",
       "      <td>10 min walking to Harajuku ~ Urahara ~ Omotesa...</td>\n",
       "      <td>...</td>\n",
       "      <td>f</td>\n",
       "      <td>f</td>\n",
       "      <td>strict_14_with_grace_period</td>\n",
       "      <td>f</td>\n",
       "      <td>f</td>\n",
       "      <td>3</td>\n",
       "      <td>2</td>\n",
       "      <td>1</td>\n",
       "      <td>0</td>\n",
       "      <td>0.19</td>\n",
       "    </tr>\n",
       "    <tr>\n",
       "      <th>1</th>\n",
       "      <td>197677</td>\n",
       "      <td>https://www.airbnb.com/rooms/197677</td>\n",
       "      <td>20190831051057</td>\n",
       "      <td>2019-08-31</td>\n",
       "      <td>Oshiage Holiday Apartment</td>\n",
       "      <td>NaN</td>\n",
       "      <td>We are happy to welcome you to our apartment, ...</td>\n",
       "      <td>We are happy to welcome you to our apartment, ...</td>\n",
       "      <td>none</td>\n",
       "      <td>NaN</td>\n",
       "      <td>...</td>\n",
       "      <td>f</td>\n",
       "      <td>f</td>\n",
       "      <td>moderate</td>\n",
       "      <td>f</td>\n",
       "      <td>f</td>\n",
       "      <td>1</td>\n",
       "      <td>1</td>\n",
       "      <td>0</td>\n",
       "      <td>0</td>\n",
       "      <td>1.64</td>\n",
       "    </tr>\n",
       "    <tr>\n",
       "      <th>2</th>\n",
       "      <td>289597</td>\n",
       "      <td>https://www.airbnb.com/rooms/289597</td>\n",
       "      <td>20190831051057</td>\n",
       "      <td>2019-08-31</td>\n",
       "      <td>Private apt in central Tokyo #203</td>\n",
       "      <td>NaN</td>\n",
       "      <td>::::::::::::::::::::::::::::::::::::::::::::::...</td>\n",
       "      <td>::::::::::::::::::::::::::::::::::::::::::::::...</td>\n",
       "      <td>none</td>\n",
       "      <td>NaN</td>\n",
       "      <td>...</td>\n",
       "      <td>t</td>\n",
       "      <td>f</td>\n",
       "      <td>strict_14_with_grace_period</td>\n",
       "      <td>f</td>\n",
       "      <td>f</td>\n",
       "      <td>2</td>\n",
       "      <td>2</td>\n",
       "      <td>0</td>\n",
       "      <td>0</td>\n",
       "      <td>1.23</td>\n",
       "    </tr>\n",
       "    <tr>\n",
       "      <th>3</th>\n",
       "      <td>370759</td>\n",
       "      <td>https://www.airbnb.com/rooms/370759</td>\n",
       "      <td>20190831051057</td>\n",
       "      <td>2019-08-31</td>\n",
       "      <td>Cozy flat #203, local area YET 10 mins to shib...</td>\n",
       "      <td>So close to busy centers, yet so peaceful! Jus...</td>\n",
       "      <td>Cozy and Relaxing, at home feeling in a reside...</td>\n",
       "      <td>So close to busy centers, yet so peaceful! Jus...</td>\n",
       "      <td>none</td>\n",
       "      <td>Peaceful and residential area just 10 mins awa...</td>\n",
       "      <td>...</td>\n",
       "      <td>f</td>\n",
       "      <td>f</td>\n",
       "      <td>strict_14_with_grace_period</td>\n",
       "      <td>f</td>\n",
       "      <td>f</td>\n",
       "      <td>3</td>\n",
       "      <td>3</td>\n",
       "      <td>0</td>\n",
       "      <td>0</td>\n",
       "      <td>1.51</td>\n",
       "    </tr>\n",
       "    <tr>\n",
       "      <th>4</th>\n",
       "      <td>700253</td>\n",
       "      <td>https://www.airbnb.com/rooms/700253</td>\n",
       "      <td>20190831051057</td>\n",
       "      <td>2019-08-31</td>\n",
       "      <td>Private apt in central Tokyo #201</td>\n",
       "      <td>NaN</td>\n",
       "      <td>::::::::::::::::::::::::::::::::::::::::::::::...</td>\n",
       "      <td>::::::::::::::::::::::::::::::::::::::::::::::...</td>\n",
       "      <td>none</td>\n",
       "      <td>NaN</td>\n",
       "      <td>...</td>\n",
       "      <td>f</td>\n",
       "      <td>f</td>\n",
       "      <td>strict_14_with_grace_period</td>\n",
       "      <td>f</td>\n",
       "      <td>f</td>\n",
       "      <td>2</td>\n",
       "      <td>2</td>\n",
       "      <td>0</td>\n",
       "      <td>0</td>\n",
       "      <td>1.22</td>\n",
       "    </tr>\n",
       "  </tbody>\n",
       "</table>\n",
       "<p>5 rows × 106 columns</p>\n",
       "</div>"
      ],
      "text/plain": [
       "       id                          listing_url       scrape_id last_scraped  \\\n",
       "0   35303   https://www.airbnb.com/rooms/35303  20190831051057   2019-08-31   \n",
       "1  197677  https://www.airbnb.com/rooms/197677  20190831051057   2019-08-31   \n",
       "2  289597  https://www.airbnb.com/rooms/289597  20190831051057   2019-08-31   \n",
       "3  370759  https://www.airbnb.com/rooms/370759  20190831051057   2019-08-31   \n",
       "4  700253  https://www.airbnb.com/rooms/700253  20190831051057   2019-08-31   \n",
       "\n",
       "                                                name  \\\n",
       "0  La Casa Gaienmae C Harajuku, Omotesando is nearby   \n",
       "1                          Oshiage Holiday Apartment   \n",
       "2                  Private apt in central Tokyo #203   \n",
       "3  Cozy flat #203, local area YET 10 mins to shib...   \n",
       "4                  Private apt in central Tokyo #201   \n",
       "\n",
       "                                             summary  \\\n",
       "0  This shared flat is locating at very close to ...   \n",
       "1                                                NaN   \n",
       "2                                                NaN   \n",
       "3  So close to busy centers, yet so peaceful! Jus...   \n",
       "4                                                NaN   \n",
       "\n",
       "                                               space  \\\n",
       "0  This apartment is 3 bedroom flat shared with t...   \n",
       "1  We are happy to welcome you to our apartment, ...   \n",
       "2  ::::::::::::::::::::::::::::::::::::::::::::::...   \n",
       "3  Cozy and Relaxing, at home feeling in a reside...   \n",
       "4  ::::::::::::::::::::::::::::::::::::::::::::::...   \n",
       "\n",
       "                                         description experiences_offered  \\\n",
       "0  This shared flat is locating at very close to ...                none   \n",
       "1  We are happy to welcome you to our apartment, ...                none   \n",
       "2  ::::::::::::::::::::::::::::::::::::::::::::::...                none   \n",
       "3  So close to busy centers, yet so peaceful! Jus...                none   \n",
       "4  ::::::::::::::::::::::::::::::::::::::::::::::...                none   \n",
       "\n",
       "                               neighborhood_overview        ...          \\\n",
       "0  10 min walking to Harajuku ~ Urahara ~ Omotesa...        ...           \n",
       "1                                                NaN        ...           \n",
       "2                                                NaN        ...           \n",
       "3  Peaceful and residential area just 10 mins awa...        ...           \n",
       "4                                                NaN        ...           \n",
       "\n",
       "  instant_bookable is_business_travel_ready          cancellation_policy  \\\n",
       "0                f                        f  strict_14_with_grace_period   \n",
       "1                f                        f                     moderate   \n",
       "2                t                        f  strict_14_with_grace_period   \n",
       "3                f                        f  strict_14_with_grace_period   \n",
       "4                f                        f  strict_14_with_grace_period   \n",
       "\n",
       "  require_guest_profile_picture require_guest_phone_verification  \\\n",
       "0                             f                                f   \n",
       "1                             f                                f   \n",
       "2                             f                                f   \n",
       "3                             f                                f   \n",
       "4                             f                                f   \n",
       "\n",
       "   calculated_host_listings_count  \\\n",
       "0                               3   \n",
       "1                               1   \n",
       "2                               2   \n",
       "3                               3   \n",
       "4                               2   \n",
       "\n",
       "   calculated_host_listings_count_entire_homes  \\\n",
       "0                                            2   \n",
       "1                                            1   \n",
       "2                                            2   \n",
       "3                                            3   \n",
       "4                                            2   \n",
       "\n",
       "  calculated_host_listings_count_private_rooms  \\\n",
       "0                                            1   \n",
       "1                                            0   \n",
       "2                                            0   \n",
       "3                                            0   \n",
       "4                                            0   \n",
       "\n",
       "   calculated_host_listings_count_shared_rooms  reviews_per_month  \n",
       "0                                            0               0.19  \n",
       "1                                            0               1.64  \n",
       "2                                            0               1.23  \n",
       "3                                            0               1.51  \n",
       "4                                            0               1.22  \n",
       "\n",
       "[5 rows x 106 columns]"
      ]
     },
     "execution_count": 2,
     "metadata": {},
     "output_type": "execute_result"
    }
   ],
   "source": [
    "df_ABListings = pd.read_csv('listings.csv')\n",
    "df_ABListings.head()"
   ]
  },
  {
   "cell_type": "markdown",
   "metadata": {},
   "source": [
    "### Dữ liệu trên có bao nhiêu dòng, bao nhiêu cột ?"
   ]
  },
  {
   "cell_type": "code",
   "execution_count": 3,
   "metadata": {},
   "outputs": [
    {
     "name": "stdout",
     "output_type": "stream",
     "text": [
      "Dữ liệu trên có 12438 dòng và 106 cột\n"
     ]
    }
   ],
   "source": [
    "num_rows_listings, num_columns_listings = df_ABListings.shape\n",
    "print(\"Dữ liệu trên có {0} dòng và {1} cột\".format(num_rows_listings, num_columns_listings))"
   ]
  },
  {
   "cell_type": "markdown",
   "metadata": {},
   "source": [
    "Do file dữ liệu với khá nhiều cột, gây khó khăn trong quá trình khám phá, nên tôi tiến hành lọc bớt  cột dữ liệu có nhiều dữ liệu thiếu, cột dữ liệu không hữu ích."
   ]
  },
  {
   "cell_type": "code",
   "execution_count": 4,
   "metadata": {},
   "outputs": [
    {
     "data": {
      "image/png": "[encoded data removed]",
      "text/plain": [
       "<Figure size 432x288 with 1 Axes>"
      ]
     },
     "metadata": {
      "needs_background": "light"
     },
     "output_type": "display_data"
    }
   ],
   "source": [
    "#Ve bieu do the hien % du lieu thieu cua cac cot\n",
    "listings_missing_df = df_ABListings.isnull().mean()*100\n",
    "listings_columns_with_nan = listings_missing_df[listings_missing_df > 0]\n",
    "listings_columns_with_nan.plot.bar(title='Missing values per column, %');"
   ]
  },
  {
   "cell_type": "markdown",
   "metadata": {},
   "source": [
    "Sau khi đọc phần mô tả dữ liệu, xác định được các cột dữ liệu không hữu ích và dựa vào biểu đồ trên xác định các cột dữ liệu bị thiếu nhiều, tôi tiến hành loại bỏ chúng ra khỏi dataframe."
   ]
  },
  {
   "cell_type": "code",
   "execution_count": 5,
   "metadata": {},
   "outputs": [
    {
     "name": "stdout",
     "output_type": "stream",
     "text": [
      "<class 'pandas.core.frame.DataFrame'>\n",
      "RangeIndex: 12438 entries, 0 to 12437\n",
      "Data columns (total 17 columns):\n",
      "id                        12438 non-null int64\n",
      "name                      12438 non-null object\n",
      "host_id                   12438 non-null int64\n",
      "host_name                 12438 non-null object\n",
      "neighbourhood_cleansed    12438 non-null object\n",
      "latitude                  12438 non-null float64\n",
      "longitude                 12438 non-null float64\n",
      "property_type             12438 non-null object\n",
      "room_type                 12438 non-null object\n",
      "accommodates              12438 non-null int64\n",
      "bed_type                  12438 non-null object\n",
      "price                     12438 non-null object\n",
      "minimum_nights            12438 non-null int64\n",
      "maximum_nights            12438 non-null int64\n",
      "number_of_reviews         12438 non-null int64\n",
      "last_review               10716 non-null object\n",
      "reviews_per_month         10716 non-null float64\n",
      "dtypes: float64(3), int64(6), object(8)\n",
      "memory usage: 1.6+ MB\n"
     ]
    }
   ],
   "source": [
    "df_ABListings.drop(df_ABListings.columns[[1,2,3,5,6,7,8,9,10,11,12,13,14,15,16,17,18,20,22,23,24,25,26,27,28,29,30,31,32,33,34,35,36,37,38,40,41,42,43,44,45,46,47,50,54,55,56,58,59,61,62,63,64,65,66,69,70,71,72,73,74,75,76,77,78,79,80,81,83,84,86,87,88,89,90,91,92,93,94,95,96,97,98,99,100,101,102,103,104]], axis=1, inplace=True)\n",
    "df_ABListings.info()"
   ]
  },
  {
   "cell_type": "markdown",
   "metadata": {},
   "source": [
    "### Mỗi dòng và mỗi cột  có ý nghĩa gì ?"
   ]
  },
  {
   "cell_type": "markdown",
   "metadata": {},
   "source": [
    "Dưới đây là phần mô tả về các cột (chỉ mô tả các cột sử dụng do số lượng cột của file khá nhiều) của file \"listings.csv\":\n",
    "- **id**: mã ID của mỗi danh sách địa điểm cho thuê.\n",
    "- **name**: tên của địa điểm cho thuê.\n",
    "- **host_id**: mã ID của chủ cho thuê.\n",
    "- **host_name**: tên của chủ cho thuê.\n",
    "- **neighbourhood_cleansed**: địa chỉ địa điểm cho thuê (quận (nội thành): ku, khu vực ngoại thành: chi,.., làng: mura)\n",
    "- **latitude**: vĩ độ - địa chỉ cho thuê ( thuộc tọa độ trên bản đồ).\n",
    "- **longitude**: kinh độ - địa chỉ cho thuê (thuộc tọa độ trên bản đồ).\n",
    "- **property_type**: loại hình bất động sản cho thuê (gồm nhiều loại: Apartment, House, Hostel, Hotel,..).\n",
    "- **room_type**: các loại phòng cho thuê (gồm 4 loại: Entire home/apt, Private room, Hotel room, Shared room).\n",
    "- **accommodates**: số lượng người ở của một địa chỉ cho thuê.\n",
    "- **bed_type**: các loại giường.\n",
    "- **price**: mức giá 1 đêm của phòng cho thuê (tính bằng yên nhật).\n",
    "- **minimum_nights**: số đêm thuê tối thiểu. \n",
    "- **maximum_nights**: số đêm thuê tối đa.\n",
    "- **number_of_reviews**: số lượng lượt đánh giá của khách thuê.\n",
    "- **last_review**: ngày gần nhất mà khách thuê đánh giá.\n",
    "- **reviews_per_month**: tỉ lệ đánh giá của tháng.\n",
    "\n",
    "Nhìn vào dữ liệu ở `df_ABListings`, ta có thể thấy là mỗi dòng ứng với một danh sách thông tin về địa điểm cho thuê phòng mà chủ thuê đăng tải trên website AIRBNB ở Tokyo (Nhật Bản)."
   ]
  },
  {
   "cell_type": "markdown",
   "metadata": {},
   "source": [
    "### Mỗi cột có dtype là gì ?"
   ]
  },
  {
   "cell_type": "code",
   "execution_count": 6,
   "metadata": {},
   "outputs": [
    {
     "data": {
      "text/plain": [
       "id                          int64\n",
       "name                       object\n",
       "host_id                     int64\n",
       "host_name                  object\n",
       "neighbourhood_cleansed     object\n",
       "latitude                  float64\n",
       "longitude                 float64\n",
       "property_type              object\n",
       "room_type                  object\n",
       "accommodates                int64\n",
       "bed_type                   object\n",
       "price                      object\n",
       "minimum_nights              int64\n",
       "maximum_nights              int64\n",
       "number_of_reviews           int64\n",
       "last_review                object\n",
       "reviews_per_month         float64\n",
       "dtype: object"
      ]
     },
     "execution_count": 6,
     "metadata": {},
     "output_type": "execute_result"
    }
   ],
   "source": [
    "dtypeofcolumns_ABL = df_ABListings.dtypes\n",
    "dtypeofcolumns_ABL"
   ]
  },
  {
   "cell_type": "markdown",
   "metadata": {},
   "source": [
    "#### Tiền xử lý\n",
    "\n",
    "Chuyển dtype cột last_review thành Datetime."
   ]
  },
  {
   "cell_type": "code",
   "execution_count": 7,
   "metadata": {},
   "outputs": [],
   "source": [
    "df_ABListings['last_review'] = pd.to_datetime(df_ABListings['last_review'])"
   ]
  },
  {
   "cell_type": "markdown",
   "metadata": {},
   "source": [
    "Chuyển dtype cột price thành float và loại bỏ kí hiệu $."
   ]
  },
  {
   "cell_type": "code",
   "execution_count": 8,
   "metadata": {},
   "outputs": [],
   "source": [
    "df_ABListings[\"price\"] = df_ABListings[\"price\"].str.replace(\"[$, ]\", \"\").astype(float)"
   ]
  },
  {
   "cell_type": "markdown",
   "metadata": {},
   "source": [
    "### Các cột dạng numeric và datetime có miền giá trị như thế nào?"
   ]
  },
  {
   "cell_type": "markdown",
   "metadata": {},
   "source": [
    "Hiện có 11 cột có dạng numeric hoặc datetime: \"id\", \"host_id\", \"latitude\", \"longitude\",\"price\", \"accommodates\", \"minimum_nights\", \"maximum_nights\", \"number_of_reviews\", \"last_review\", \"reviews_per_month\". Tuy nhiên, cột \"id\" và \"host_id\" thì không có gì đáng quan tâm. Do đó, ở đây, tôi sẽ tính miền giá trị (min, max) của 8 cột là \"latitude\", \"longitude\", \"accommodates\", \"minimum_nights\", \"maximum_nights\", \"number_of_reviews\", \"last_review\", \"reviews_per_month\", lưu kết quả vào dataframe `df_col_listing_ranges`. Dataframe này có 2 dòng là \"min\", \"max\"; và có 9 cột là \"latitude\", \"longtitude\", \"price\", \"accommodates\", \"minimum_nights\", \"maximum_nights\", \"number_of_reviews\", \"last_review\", \"review_per_month\". "
   ]
  },
  {
   "cell_type": "code",
   "execution_count": 9,
   "metadata": {},
   "outputs": [
    {
     "data": {
      "text/html": [
       "<div>\n",
       "<style scoped>\n",
       "    .dataframe tbody tr th:only-of-type {\n",
       "        vertical-align: middle;\n",
       "    }\n",
       "\n",
       "    .dataframe tbody tr th {\n",
       "        vertical-align: top;\n",
       "    }\n",
       "\n",
       "    .dataframe thead th {\n",
       "        text-align: right;\n",
       "    }\n",
       "</style>\n",
       "<table border=\"1\" class=\"dataframe\">\n",
       "  <thead>\n",
       "    <tr style=\"text-align: right;\">\n",
       "      <th></th>\n",
       "      <th>latitude</th>\n",
       "      <th>longitude</th>\n",
       "      <th>price</th>\n",
       "      <th>accommodates</th>\n",
       "      <th>minimum_nights</th>\n",
       "      <th>maximum_nights</th>\n",
       "      <th>number_of_reviews</th>\n",
       "      <th>last_review</th>\n",
       "      <th>reviews_per_month</th>\n",
       "    </tr>\n",
       "  </thead>\n",
       "  <tbody>\n",
       "    <tr>\n",
       "      <th>min</th>\n",
       "      <td>27.07233</td>\n",
       "      <td>139.13002</td>\n",
       "      <td>0.0</td>\n",
       "      <td>1</td>\n",
       "      <td>1</td>\n",
       "      <td>1</td>\n",
       "      <td>0</td>\n",
       "      <td>2015-05-25</td>\n",
       "      <td>0.03</td>\n",
       "    </tr>\n",
       "    <tr>\n",
       "      <th>max</th>\n",
       "      <td>35.83243</td>\n",
       "      <td>142.20288</td>\n",
       "      <td>1063875.0</td>\n",
       "      <td>16</td>\n",
       "      <td>365</td>\n",
       "      <td>2000</td>\n",
       "      <td>625</td>\n",
       "      <td>2019-08-31</td>\n",
       "      <td>51.23</td>\n",
       "    </tr>\n",
       "  </tbody>\n",
       "</table>\n",
       "</div>"
      ],
      "text/plain": [
       "     latitude  longitude      price  accommodates  minimum_nights  \\\n",
       "min  27.07233  139.13002        0.0             1               1   \n",
       "max  35.83243  142.20288  1063875.0            16             365   \n",
       "\n",
       "     maximum_nights  number_of_reviews last_review  reviews_per_month  \n",
       "min               1                  0  2015-05-25               0.03  \n",
       "max            2000                625  2019-08-31              51.23  "
      ]
     },
     "execution_count": 9,
     "metadata": {},
     "output_type": "execute_result"
    }
   ],
   "source": [
    "df_col_listing_ranges = {'latitude': pd.Series([df_ABListings['latitude'].min(), df_ABListings['latitude'].max()], index=['min','max']),\n",
    "                         'longitude': pd.Series([df_ABListings['longitude'].min(),df_ABListings['longitude'].max()], index=['min','max']),\n",
    "                         'price': pd.Series([df_ABListings['price'].min(), df_ABListings['price'].max()], index=['min','max']),\n",
    "                         'accommodates': pd.Series([df_ABListings['accommodates'].min(), df_ABListings['accommodates'].max()], index=['min','max']),\n",
    "                         'minimum_nights': pd.Series([df_ABListings['minimum_nights'].min(), df_ABListings['minimum_nights'].max()], index=['min','max']),\n",
    "                         'maximum_nights': pd.Series([df_ABListings['maximum_nights'].min(), df_ABListings['maximum_nights'].max()], index=['min','max']),\n",
    "                         'number_of_reviews': pd.Series([df_ABListings['number_of_reviews'].min(), df_ABListings['number_of_reviews'].max()], index=['min','max']),\n",
    "                         'last_review': pd.Series([df_ABListings['last_review'].min(), df_ABListings['last_review'].max()], index=['min','max']),\n",
    "                         'reviews_per_month': pd.Series([df_ABListings['reviews_per_month'].min(), df_ABListings['reviews_per_month'].max()], index=['min','max'])}\n",
    "df_col_listing_ranges = pd.DataFrame(df_col_listing_ranges)\n",
    "df_col_listing_ranges"
   ]
  },
  {
   "cell_type": "markdown",
   "metadata": {},
   "source": [
    "### Các cột dạng categorical có các giá trị nào ?\n",
    "`df_ABListings` có 6 cột dạng categorical là\"name\",\"host_name\",\"neighbourhood_cleansed\",\"property_type\",\"room_type\",\"bed_type\". Tôi sẽ tính \"range\" của mỗi cột này: số lượng các giá trị khác nhau (không tính NaN), và list gồm 3 giá trị khác nhau đầu tiên sau khi đã sort tăng dần tất cả các giá trị khác nhau, lưu kết quả vào dataframe `df_cat_col_listing_ranges`. Dataframe này có 2 dòng là \"NumUniqueVals\", \"ThreeFirstVals\"; và có 6 cột là \"name\", \"host_name\", \"neighbourhood_cleansed\", \"property_type\",\"room_type\",\"bed_type\"\"."
   ]
  },
  {
   "cell_type": "code",
   "execution_count": 10,
   "metadata": {},
   "outputs": [
    {
     "data": {
      "text/html": [
       "<div>\n",
       "<style scoped>\n",
       "    .dataframe tbody tr th:only-of-type {\n",
       "        vertical-align: middle;\n",
       "    }\n",
       "\n",
       "    .dataframe tbody tr th {\n",
       "        vertical-align: top;\n",
       "    }\n",
       "\n",
       "    .dataframe thead th {\n",
       "        text-align: right;\n",
       "    }\n",
       "</style>\n",
       "<table border=\"1\" class=\"dataframe\">\n",
       "  <thead>\n",
       "    <tr style=\"text-align: right;\">\n",
       "      <th></th>\n",
       "      <th>name</th>\n",
       "      <th>host_name</th>\n",
       "      <th>neighbourhood_cleansed</th>\n",
       "      <th>property_type</th>\n",
       "      <th>room_type</th>\n",
       "      <th>bed_type</th>\n",
       "    </tr>\n",
       "  </thead>\n",
       "  <tbody>\n",
       "    <tr>\n",
       "      <th>NumUniqueVals</th>\n",
       "      <td>11640</td>\n",
       "      <td>2180</td>\n",
       "      <td>56</td>\n",
       "      <td>27</td>\n",
       "      <td>4</td>\n",
       "      <td>5</td>\n",
       "    </tr>\n",
       "    <tr>\n",
       "      <th>ThreeFirstVals</th>\n",
       "      <td>Index([' Family  in a real Japanese inn',\n",
       "    ...</td>\n",
       "      <td>Index(['&amp; AND HOSTEL-ASAKUSA North-', '&amp; And H...</td>\n",
       "      <td>Index(['Adachi Ku', 'Akiruno Shi', 'Akishima S...</td>\n",
       "      <td>Index(['Aparthotel', 'Apartment', 'Bed and bre...</td>\n",
       "      <td>Index(['Entire home/apt', 'Hotel room', 'Priva...</td>\n",
       "      <td>Index(['Airbed', 'Couch', 'Futon'], dtype='obj...</td>\n",
       "    </tr>\n",
       "  </tbody>\n",
       "</table>\n",
       "</div>"
      ],
      "text/plain": [
       "                                                             name  \\\n",
       "NumUniqueVals                                               11640   \n",
       "ThreeFirstVals  Index([' Family  in a real Japanese inn',\n",
       "    ...   \n",
       "\n",
       "                                                        host_name  \\\n",
       "NumUniqueVals                                                2180   \n",
       "ThreeFirstVals  Index(['& AND HOSTEL-ASAKUSA North-', '& And H...   \n",
       "\n",
       "                                           neighbourhood_cleansed  \\\n",
       "NumUniqueVals                                                  56   \n",
       "ThreeFirstVals  Index(['Adachi Ku', 'Akiruno Shi', 'Akishima S...   \n",
       "\n",
       "                                                    property_type  \\\n",
       "NumUniqueVals                                                  27   \n",
       "ThreeFirstVals  Index(['Aparthotel', 'Apartment', 'Bed and bre...   \n",
       "\n",
       "                                                        room_type  \\\n",
       "NumUniqueVals                                                   4   \n",
       "ThreeFirstVals  Index(['Entire home/apt', 'Hotel room', 'Priva...   \n",
       "\n",
       "                                                         bed_type  \n",
       "NumUniqueVals                                                   5  \n",
       "ThreeFirstVals  Index(['Airbed', 'Couch', 'Futon'], dtype='obj...  "
      ]
     },
     "execution_count": 10,
     "metadata": {},
     "output_type": "execute_result"
    }
   ],
   "source": [
    "\n",
    "name_values = df_ABListings.name.value_counts().index.sort_values()\n",
    "host_name_values = df_ABListings.host_name.value_counts().index.sort_values()\n",
    "neighbourhood_cleansed_values = df_ABListings.neighbourhood_cleansed.value_counts().index.sort_values()\n",
    "property_type_values = df_ABListings.property_type.value_counts().index.sort_values()\n",
    "room_type_values = df_ABListings.room_type.value_counts().index.sort_values()\n",
    "bed_type_values = df_ABListings.bed_type.value_counts().index.sort_values()\n",
    "df_cat_col_listing_ranges = {'name': pd.Series([len(name_values),name_values[:3]],index=['NumUniqueVals','ThreeFirstVals']),\n",
    "                             'host_name': pd.Series([len(host_name_values),host_name_values[:3]],index=['NumUniqueVals', 'ThreeFirstVals']),\n",
    "                             'neighbourhood_cleansed': pd.Series([len(neighbourhood_cleansed_values),neighbourhood_cleansed_values[:3]],index=['NumUniqueVals', 'ThreeFirstVals']),\n",
    "                             'property_type': pd.Series([len(property_type_values),property_type_values[:3]],index=['NumUniqueVals', 'ThreeFirstVals']),\n",
    "                             'room_type': pd.Series([len(room_type_values),room_type_values[:3]],index=['NumUniqueVals', 'ThreeFirstVals']),\n",
    "                             'bed_type': pd.Series([len(bed_type_values),bed_type_values[:3]],index=['NumUniqueVals', 'ThreeFirstVals'])}\n",
    "df_cat_col_listing_ranges = pd.DataFrame(df_cat_col_listing_ranges)  \n",
    "df_cat_col_listing_ranges"
   ]
  },
  {
   "cell_type": "markdown",
   "metadata": {},
   "source": [
    "### Mỗi cột có bao nhiêu giá trị thiếu ?"
   ]
  },
  {
   "cell_type": "code",
   "execution_count": 11,
   "metadata": {},
   "outputs": [
    {
     "data": {
      "text/plain": [
       "id                           0\n",
       "name                         0\n",
       "host_id                      0\n",
       "host_name                    0\n",
       "neighbourhood_cleansed       0\n",
       "latitude                     0\n",
       "longitude                    0\n",
       "property_type                0\n",
       "room_type                    0\n",
       "accommodates                 0\n",
       "bed_type                     0\n",
       "price                        0\n",
       "minimum_nights               0\n",
       "maximum_nights               0\n",
       "number_of_reviews            0\n",
       "last_review               1722\n",
       "reviews_per_month         1722\n",
       "dtype: int64"
      ]
     },
     "execution_count": 11,
     "metadata": {},
     "output_type": "execute_result"
    }
   ],
   "source": [
    "col_num_nans_listings = df_ABListings.isnull().sum()\n",
    "col_num_nans_listings"
   ]
  },
  {
   "cell_type": "markdown",
   "metadata": {},
   "source": [
    "### Đọc dữ liệu từ file calendar.csv vào Dataframe"
   ]
  },
  {
   "cell_type": "code",
   "execution_count": 12,
   "metadata": {},
   "outputs": [
    {
     "data": {
      "text/html": [
       "<div>\n",
       "<style scoped>\n",
       "    .dataframe tbody tr th:only-of-type {\n",
       "        vertical-align: middle;\n",
       "    }\n",
       "\n",
       "    .dataframe tbody tr th {\n",
       "        vertical-align: top;\n",
       "    }\n",
       "\n",
       "    .dataframe thead th {\n",
       "        text-align: right;\n",
       "    }\n",
       "</style>\n",
       "<table border=\"1\" class=\"dataframe\">\n",
       "  <thead>\n",
       "    <tr style=\"text-align: right;\">\n",
       "      <th></th>\n",
       "      <th>listing_id</th>\n",
       "      <th>date</th>\n",
       "      <th>available</th>\n",
       "      <th>price</th>\n",
       "      <th>adjusted_price</th>\n",
       "      <th>minimum_nights</th>\n",
       "      <th>maximum_nights</th>\n",
       "    </tr>\n",
       "  </thead>\n",
       "  <tbody>\n",
       "    <tr>\n",
       "      <th>0</th>\n",
       "      <td>3814258</td>\n",
       "      <td>2019-08-31</td>\n",
       "      <td>f</td>\n",
       "      <td>$7,750.00</td>\n",
       "      <td>$7,750.00</td>\n",
       "      <td>3</td>\n",
       "      <td>1125</td>\n",
       "    </tr>\n",
       "    <tr>\n",
       "      <th>1</th>\n",
       "      <td>5470170</td>\n",
       "      <td>2019-08-31</td>\n",
       "      <td>f</td>\n",
       "      <td>$2,800.00</td>\n",
       "      <td>$2,800.00</td>\n",
       "      <td>1</td>\n",
       "      <td>1125</td>\n",
       "    </tr>\n",
       "    <tr>\n",
       "      <th>2</th>\n",
       "      <td>5470170</td>\n",
       "      <td>2019-09-01</td>\n",
       "      <td>t</td>\n",
       "      <td>$2,800.00</td>\n",
       "      <td>$2,800.00</td>\n",
       "      <td>1</td>\n",
       "      <td>1125</td>\n",
       "    </tr>\n",
       "    <tr>\n",
       "      <th>3</th>\n",
       "      <td>5470170</td>\n",
       "      <td>2019-09-02</td>\n",
       "      <td>t</td>\n",
       "      <td>$2,800.00</td>\n",
       "      <td>$2,800.00</td>\n",
       "      <td>1</td>\n",
       "      <td>1125</td>\n",
       "    </tr>\n",
       "    <tr>\n",
       "      <th>4</th>\n",
       "      <td>5470170</td>\n",
       "      <td>2019-09-03</td>\n",
       "      <td>t</td>\n",
       "      <td>$2,800.00</td>\n",
       "      <td>$2,800.00</td>\n",
       "      <td>1</td>\n",
       "      <td>1125</td>\n",
       "    </tr>\n",
       "  </tbody>\n",
       "</table>\n",
       "</div>"
      ],
      "text/plain": [
       "   listing_id        date available      price adjusted_price  minimum_nights  \\\n",
       "0     3814258  2019-08-31         f  $7,750.00      $7,750.00               3   \n",
       "1     5470170  2019-08-31         f  $2,800.00      $2,800.00               1   \n",
       "2     5470170  2019-09-01         t  $2,800.00      $2,800.00               1   \n",
       "3     5470170  2019-09-02         t  $2,800.00      $2,800.00               1   \n",
       "4     5470170  2019-09-03         t  $2,800.00      $2,800.00               1   \n",
       "\n",
       "   maximum_nights  \n",
       "0            1125  \n",
       "1            1125  \n",
       "2            1125  \n",
       "3            1125  \n",
       "4            1125  "
      ]
     },
     "execution_count": 12,
     "metadata": {},
     "output_type": "execute_result"
    }
   ],
   "source": [
    "df_ABCalendar = pd.read_csv('calendar.csv')\n",
    "df_ABCalendar.head()"
   ]
  },
  {
   "cell_type": "markdown",
   "metadata": {},
   "source": [
    "### Dữ liệu này có bao nhiêu dòng, bao nhiêu cột ?"
   ]
  },
  {
   "cell_type": "code",
   "execution_count": 13,
   "metadata": {},
   "outputs": [
    {
     "name": "stdout",
     "output_type": "stream",
     "text": [
      "Dữ liệu trên có 4539870 dòng và 7 cột\n"
     ]
    }
   ],
   "source": [
    "num_rows_calendar, num_columns_calendar = df_ABCalendar.shape\n",
    "print(\"Dữ liệu trên có {0} dòng và {1} cột\".format(num_rows_calendar, num_columns_calendar))"
   ]
  },
  {
   "cell_type": "markdown",
   "metadata": {},
   "source": [
    "### Mỗi dòng và mỗi cột  có ý nghĩa gì ?"
   ]
  },
  {
   "cell_type": "markdown",
   "metadata": {},
   "source": [
    "Dưới đây là phần mô tả về các cột của file \"calendar.csv\":\n",
    "- **listing_id**: mã ID của mỗi danh sách địa điểm cho thuê.\n",
    "- **date**: ngày cho thuê (31/08/2019 đến 29/08/2020).\n",
    "- **avaiable**: trình trạng phòng cho thuê (t/t: nếu là t thì phòng trống, còn f thì phòng đã được thuê).\n",
    "- **Price**: Giá phòng 1 đêm (tính bằng yên nhật).\n",
    "- **adjusted_price**: giá sau khi điều chỉnh.\n",
    "- **minimum_nights**: số đêm thuê tối thiểu.\n",
    "- **maximum_nights**: số đêm thuê tối đa.\n",
    "\n",
    "Nhìn vào dữ liệu ở `df_ABCalendar`, ta có thể thấy là mỗi dòng ứng với một lịch cho một danh sách thông tin phòng cho thuê ở trong file \"listings.csv\"."
   ]
  },
  {
   "cell_type": "markdown",
   "metadata": {},
   "source": [
    "### Mỗi cột có dtype là gì ?"
   ]
  },
  {
   "cell_type": "code",
   "execution_count": 14,
   "metadata": {},
   "outputs": [
    {
     "data": {
      "text/plain": [
       "listing_id         int64\n",
       "date              object\n",
       "available         object\n",
       "price             object\n",
       "adjusted_price    object\n",
       "minimum_nights     int64\n",
       "maximum_nights     int64\n",
       "dtype: object"
      ]
     },
     "execution_count": 14,
     "metadata": {},
     "output_type": "execute_result"
    }
   ],
   "source": [
    "dtypeofcolumn_ABC = df_ABCalendar.dtypes\n",
    "dtypeofcolumn_ABC"
   ]
  },
  {
   "cell_type": "markdown",
   "metadata": {},
   "source": [
    "#### Tiền xử lý\n",
    "\n",
    "Chuyển dtype cột date thành Datetime."
   ]
  },
  {
   "cell_type": "code",
   "execution_count": 15,
   "metadata": {},
   "outputs": [],
   "source": [
    "df_ABCalendar['date'] = pd.to_datetime(df_ABCalendar['date'])"
   ]
  },
  {
   "cell_type": "markdown",
   "metadata": {},
   "source": [
    "Chuyển dtype cột price và cột adjusted_price thành float và loại bỏ $"
   ]
  },
  {
   "cell_type": "code",
   "execution_count": 16,
   "metadata": {},
   "outputs": [],
   "source": [
    "df_ABCalendar[\"price\"] = df_ABCalendar[\"price\"].str.replace(\"[$, ]\", \"\").astype(float)\n",
    "df_ABCalendar[\"adjusted_price\"] = df_ABCalendar[\"adjusted_price\"].str.replace(\"[$, ]\", \"\").astype(float)"
   ]
  },
  {
   "cell_type": "markdown",
   "metadata": {},
   "source": [
    "### Các cột dạng numeric và datetime có miền giá trị như thế nào?"
   ]
  },
  {
   "cell_type": "markdown",
   "metadata": {},
   "source": [
    "Hiện có 6 cột có dạng numeric hoặc datetime: \"listing_id\", \"date\",\"price\", \"adjusted_price\", \"minimum_nights\", \"maximum_nights\". Tuy nhiên, cột \"listing_id\"thì không có gì đáng quan tâm. Do đó, ở đây, tôi sẽ tính miền giá trị (min, max) của 5 cột là \"date\",\"price\", \"adjusted_price\", \"minimum_nights\", \"maximum_nights\", lưu kết quả vào dataframe `df_col_calendar_ranges`. Dataframe này có 2 dòng là \"min\", \"max\"; và có 5 cột là \"date\",\"price\", \"adjusted_price\", \"minimum_nights\", \"maximum_nights\"."
   ]
  },
  {
   "cell_type": "code",
   "execution_count": 17,
   "metadata": {},
   "outputs": [
    {
     "data": {
      "text/html": [
       "<div>\n",
       "<style scoped>\n",
       "    .dataframe tbody tr th:only-of-type {\n",
       "        vertical-align: middle;\n",
       "    }\n",
       "\n",
       "    .dataframe tbody tr th {\n",
       "        vertical-align: top;\n",
       "    }\n",
       "\n",
       "    .dataframe thead th {\n",
       "        text-align: right;\n",
       "    }\n",
       "</style>\n",
       "<table border=\"1\" class=\"dataframe\">\n",
       "  <thead>\n",
       "    <tr style=\"text-align: right;\">\n",
       "      <th></th>\n",
       "      <th>date</th>\n",
       "      <th>price</th>\n",
       "      <th>adjusted_price</th>\n",
       "      <th>minimum_nights</th>\n",
       "      <th>maximum_nights</th>\n",
       "    </tr>\n",
       "  </thead>\n",
       "  <tbody>\n",
       "    <tr>\n",
       "      <th>min</th>\n",
       "      <td>2019-08-31</td>\n",
       "      <td>400.0</td>\n",
       "      <td>400.0</td>\n",
       "      <td>1</td>\n",
       "      <td>1</td>\n",
       "    </tr>\n",
       "    <tr>\n",
       "      <th>max</th>\n",
       "      <td>2020-08-29</td>\n",
       "      <td>12761392.0</td>\n",
       "      <td>12761392.0</td>\n",
       "      <td>365</td>\n",
       "      <td>3000</td>\n",
       "    </tr>\n",
       "  </tbody>\n",
       "</table>\n",
       "</div>"
      ],
      "text/plain": [
       "          date       price  adjusted_price  minimum_nights  maximum_nights\n",
       "min 2019-08-31       400.0           400.0               1               1\n",
       "max 2020-08-29  12761392.0      12761392.0             365            3000"
      ]
     },
     "execution_count": 17,
     "metadata": {},
     "output_type": "execute_result"
    }
   ],
   "source": [
    "df_col_calendar_ranges = {'date': pd.Series([df_ABCalendar['date'].min(), df_ABCalendar['date'].max()], index=['min','max']),\n",
    "                          'price': pd.Series([df_ABCalendar['price'].min(),df_ABCalendar['price'].max()], index=['min','max']),\n",
    "                          'adjusted_price': pd.Series([df_ABCalendar['adjusted_price'].min(), df_ABCalendar['adjusted_price'].max()], index=['min','max']),\n",
    "                          'minimum_nights': pd.Series([df_ABCalendar['minimum_nights'].min(), df_ABCalendar['minimum_nights'].max()], index=['min','max']),\n",
    "                          'maximum_nights': pd.Series([df_ABCalendar['maximum_nights'].min(), df_ABCalendar['maximum_nights'].max()], index=['min','max'])}\n",
    "df_col_calendar_ranges = pd.DataFrame(df_col_calendar_ranges)\n",
    "df_col_calendar_ranges"
   ]
  },
  {
   "cell_type": "markdown",
   "metadata": {},
   "source": [
    "### Các cột dạng categorical có các giá trị nào ?\n",
    "\n",
    "`df_ABCalendar` có 1 cột dạng categorical là \"available\". Tôi sẽ tính \"range\" của cột này: số lượng các giá trị khác nhau (không tính NaN), và list gồm 2 giá trị của cột này, lưu kết quả vào dataframe `df_cat_col_calendar_ranges`. Dataframe này có 2 dòng là \"NumUniqueVals\", \"Values\"; và có 1 cột là \"avaiable\"."
   ]
  },
  {
   "cell_type": "code",
   "execution_count": 18,
   "metadata": {},
   "outputs": [
    {
     "data": {
      "text/html": [
       "<div>\n",
       "<style scoped>\n",
       "    .dataframe tbody tr th:only-of-type {\n",
       "        vertical-align: middle;\n",
       "    }\n",
       "\n",
       "    .dataframe tbody tr th {\n",
       "        vertical-align: top;\n",
       "    }\n",
       "\n",
       "    .dataframe thead th {\n",
       "        text-align: right;\n",
       "    }\n",
       "</style>\n",
       "<table border=\"1\" class=\"dataframe\">\n",
       "  <thead>\n",
       "    <tr style=\"text-align: right;\">\n",
       "      <th></th>\n",
       "      <th>available</th>\n",
       "    </tr>\n",
       "  </thead>\n",
       "  <tbody>\n",
       "    <tr>\n",
       "      <th>NumUniqueVals</th>\n",
       "      <td>2</td>\n",
       "    </tr>\n",
       "    <tr>\n",
       "      <th>Values</th>\n",
       "      <td>Index(['f', 't'], dtype='object')</td>\n",
       "    </tr>\n",
       "  </tbody>\n",
       "</table>\n",
       "</div>"
      ],
      "text/plain": [
       "                                       available\n",
       "NumUniqueVals                                  2\n",
       "Values         Index(['f', 't'], dtype='object')"
      ]
     },
     "execution_count": 18,
     "metadata": {},
     "output_type": "execute_result"
    }
   ],
   "source": [
    "available_values = df_ABCalendar.available.value_counts().index.sort_values()\n",
    "df_cat_col_calendar_ranges = {'available': pd.Series([len(available_values),available_values[0:]],index=['NumUniqueVals','Values'])}\n",
    "df_cat_col_calendar_ranges = pd.DataFrame(df_cat_col_calendar_ranges)  \n",
    "df_cat_col_calendar_ranges"
   ]
  },
  {
   "cell_type": "markdown",
   "metadata": {},
   "source": [
    "### Mỗi cột có bao nhiêu giá trị thiếu ?"
   ]
  },
  {
   "cell_type": "code",
   "execution_count": 19,
   "metadata": {},
   "outputs": [
    {
     "data": {
      "text/plain": [
       "listing_id        0\n",
       "date              0\n",
       "available         0\n",
       "price             0\n",
       "adjusted_price    0\n",
       "minimum_nights    0\n",
       "maximum_nights    0\n",
       "dtype: int64"
      ]
     },
     "execution_count": 19,
     "metadata": {},
     "output_type": "execute_result"
    }
   ],
   "source": [
    "col_num_nans_calendar = df_ABCalendar.isnull().sum()\n",
    "col_num_nans_calendar"
   ]
  },
  {
   "cell_type": "markdown",
   "metadata": {},
   "source": [
    "## 3.Tiền xử lý dữ liệu:"
   ]
  },
  {
   "cell_type": "markdown",
   "metadata": {},
   "source": [
    "### Tiền xử lý Dataframe df_ABListings \n",
    "\n",
    "Xử lý các dữ liệu thiếu"
   ]
  },
  {
   "cell_type": "code",
   "execution_count": 20,
   "metadata": {},
   "outputs": [
    {
     "name": "stdout",
     "output_type": "stream",
     "text": [
      "<class 'pandas.core.frame.DataFrame'>\n",
      "RangeIndex: 12438 entries, 0 to 12437\n",
      "Data columns (total 17 columns):\n",
      "id                        12438 non-null int64\n",
      "name                      12438 non-null object\n",
      "host_id                   12438 non-null int64\n",
      "host_name                 12438 non-null object\n",
      "neighbourhood_cleansed    12438 non-null object\n",
      "latitude                  12438 non-null float64\n",
      "longitude                 12438 non-null float64\n",
      "property_type             12438 non-null object\n",
      "room_type                 12438 non-null object\n",
      "accommodates              12438 non-null int64\n",
      "bed_type                  12438 non-null object\n",
      "price                     12438 non-null float64\n",
      "minimum_nights            12438 non-null int64\n",
      "maximum_nights            12438 non-null int64\n",
      "number_of_reviews         12438 non-null int64\n",
      "last_review               10716 non-null datetime64[ns]\n",
      "reviews_per_month         10716 non-null float64\n",
      "dtypes: datetime64[ns](1), float64(4), int64(6), object(6)\n",
      "memory usage: 1.6+ MB\n"
     ]
    }
   ],
   "source": [
    "df_ABListings.info()"
   ]
  },
  {
   "cell_type": "markdown",
   "metadata": {},
   "source": [
    "Dữ liệu thiếu ở 2 cột là last_review và reviews_per_month, sở dĩ hai cột này xuất hiện dữ liệu trống là do cột number_of_reviews có dòng có giá trị bằng 0. Mục tiêu hướng đến là việc lấy dữ liệu thật, nên những listing nào có số lượt đánh giá từ khách thuê bằng không (number_of_reviews= 0) sẽ bị loại bỏ."
   ]
  },
  {
   "cell_type": "code",
   "execution_count": 21,
   "metadata": {},
   "outputs": [
    {
     "name": "stdout",
     "output_type": "stream",
     "text": [
      "<class 'pandas.core.frame.DataFrame'>\n",
      "Int64Index: 10716 entries, 0 to 12376\n",
      "Data columns (total 17 columns):\n",
      "id                        10716 non-null int64\n",
      "name                      10716 non-null object\n",
      "host_id                   10716 non-null int64\n",
      "host_name                 10716 non-null object\n",
      "neighbourhood_cleansed    10716 non-null object\n",
      "latitude                  10716 non-null float64\n",
      "longitude                 10716 non-null float64\n",
      "property_type             10716 non-null object\n",
      "room_type                 10716 non-null object\n",
      "accommodates              10716 non-null int64\n",
      "bed_type                  10716 non-null object\n",
      "price                     10716 non-null float64\n",
      "minimum_nights            10716 non-null int64\n",
      "maximum_nights            10716 non-null int64\n",
      "number_of_reviews         10716 non-null int64\n",
      "last_review               10716 non-null datetime64[ns]\n",
      "reviews_per_month         10716 non-null float64\n",
      "dtypes: datetime64[ns](1), float64(4), int64(6), object(6)\n",
      "memory usage: 1.5+ MB\n"
     ]
    }
   ],
   "source": [
    "df_ABListings = df_ABListings.drop(df_ABListings[df_ABListings['number_of_reviews']==0].index)\n",
    "df_ABListings.info()"
   ]
  },
  {
   "cell_type": "markdown",
   "metadata": {},
   "source": [
    "Xử lý dữ liệu giá trị nhập sai"
   ]
  },
  {
   "cell_type": "code",
   "execution_count": 22,
   "metadata": {},
   "outputs": [
    {
     "name": "stdout",
     "output_type": "stream",
     "text": [
      "Gia Tri Max: 999961.0.\n",
      "Gia Tri Min: 0.0.\n",
      "Gia Tri Mean: 15153.183743934303.\n"
     ]
    }
   ],
   "source": [
    "#Xem gia tri Max, Min và Mean trong cot price của dataframe\n",
    "print('Gia Tri Max: {}.'.format(df_ABListings['price'].max()))\n",
    "print('Gia Tri Min: {}.'.format(df_ABListings['price'].min()))\n",
    "print('Gia Tri Mean: {}.'.format(df_ABListings['price'].mean()))"
   ]
  },
  {
   "cell_type": "markdown",
   "metadata": {},
   "source": [
    "Xem các listing chứa giá trị max, min bất thường đó để đưa ra cách xử lý"
   ]
  },
  {
   "cell_type": "code",
   "execution_count": 23,
   "metadata": {},
   "outputs": [
    {
     "data": {
      "text/html": [
       "<div>\n",
       "<style scoped>\n",
       "    .dataframe tbody tr th:only-of-type {\n",
       "        vertical-align: middle;\n",
       "    }\n",
       "\n",
       "    .dataframe tbody tr th {\n",
       "        vertical-align: top;\n",
       "    }\n",
       "\n",
       "    .dataframe thead th {\n",
       "        text-align: right;\n",
       "    }\n",
       "</style>\n",
       "<table border=\"1\" class=\"dataframe\">\n",
       "  <thead>\n",
       "    <tr style=\"text-align: right;\">\n",
       "      <th></th>\n",
       "      <th>id</th>\n",
       "      <th>name</th>\n",
       "      <th>host_id</th>\n",
       "      <th>host_name</th>\n",
       "      <th>neighbourhood_cleansed</th>\n",
       "      <th>latitude</th>\n",
       "      <th>longitude</th>\n",
       "      <th>property_type</th>\n",
       "      <th>room_type</th>\n",
       "      <th>accommodates</th>\n",
       "      <th>bed_type</th>\n",
       "      <th>price</th>\n",
       "      <th>minimum_nights</th>\n",
       "      <th>maximum_nights</th>\n",
       "      <th>number_of_reviews</th>\n",
       "      <th>last_review</th>\n",
       "      <th>reviews_per_month</th>\n",
       "    </tr>\n",
       "  </thead>\n",
       "  <tbody>\n",
       "    <tr>\n",
       "      <th>2225</th>\n",
       "      <td>20659571</td>\n",
       "      <td>Takahata Apartment 118</td>\n",
       "      <td>13088224</td>\n",
       "      <td>Rickie</td>\n",
       "      <td>Hino Shi</td>\n",
       "      <td>35.66414</td>\n",
       "      <td>139.40825</td>\n",
       "      <td>Apartment</td>\n",
       "      <td>Entire home/apt</td>\n",
       "      <td>2</td>\n",
       "      <td>Real Bed</td>\n",
       "      <td>0.0</td>\n",
       "      <td>30</td>\n",
       "      <td>1125</td>\n",
       "      <td>16</td>\n",
       "      <td>2019-07-05</td>\n",
       "      <td>0.67</td>\n",
       "    </tr>\n",
       "    <tr>\n",
       "      <th>2507</th>\n",
       "      <td>21234490</td>\n",
       "      <td>【NEW SALE!!】Asakusa Japanese style room#201</td>\n",
       "      <td>150357703</td>\n",
       "      <td>Makoto</td>\n",
       "      <td>Sumida Ku</td>\n",
       "      <td>35.70372</td>\n",
       "      <td>139.79744</td>\n",
       "      <td>Apartment</td>\n",
       "      <td>Private room</td>\n",
       "      <td>3</td>\n",
       "      <td>Real Bed</td>\n",
       "      <td>0.0</td>\n",
       "      <td>1</td>\n",
       "      <td>1125</td>\n",
       "      <td>4</td>\n",
       "      <td>2018-06-19</td>\n",
       "      <td>0.25</td>\n",
       "    </tr>\n",
       "    <tr>\n",
       "      <th>2508</th>\n",
       "      <td>21234860</td>\n",
       "      <td>【NEW SALE!!】Asakusa Japanese style room#203</td>\n",
       "      <td>150357703</td>\n",
       "      <td>Makoto</td>\n",
       "      <td>Sumida Ku</td>\n",
       "      <td>35.70550</td>\n",
       "      <td>139.79741</td>\n",
       "      <td>Apartment</td>\n",
       "      <td>Private room</td>\n",
       "      <td>4</td>\n",
       "      <td>Real Bed</td>\n",
       "      <td>0.0</td>\n",
       "      <td>1</td>\n",
       "      <td>1125</td>\n",
       "      <td>7</td>\n",
       "      <td>2019-03-25</td>\n",
       "      <td>0.34</td>\n",
       "    </tr>\n",
       "    <tr>\n",
       "      <th>2509</th>\n",
       "      <td>21234998</td>\n",
       "      <td>【NEW SALE!!】Asakusa Japanese style room#204</td>\n",
       "      <td>150357703</td>\n",
       "      <td>Makoto</td>\n",
       "      <td>Sumida Ku</td>\n",
       "      <td>35.70534</td>\n",
       "      <td>139.79748</td>\n",
       "      <td>Apartment</td>\n",
       "      <td>Private room</td>\n",
       "      <td>4</td>\n",
       "      <td>Real Bed</td>\n",
       "      <td>0.0</td>\n",
       "      <td>1</td>\n",
       "      <td>1125</td>\n",
       "      <td>6</td>\n",
       "      <td>2019-03-24</td>\n",
       "      <td>0.30</td>\n",
       "    </tr>\n",
       "  </tbody>\n",
       "</table>\n",
       "</div>"
      ],
      "text/plain": [
       "            id                                         name    host_id  \\\n",
       "2225  20659571                       Takahata Apartment 118   13088224   \n",
       "2507  21234490  【NEW SALE!!】Asakusa Japanese style room#201  150357703   \n",
       "2508  21234860  【NEW SALE!!】Asakusa Japanese style room#203  150357703   \n",
       "2509  21234998  【NEW SALE!!】Asakusa Japanese style room#204  150357703   \n",
       "\n",
       "     host_name neighbourhood_cleansed  latitude  longitude property_type  \\\n",
       "2225    Rickie               Hino Shi  35.66414  139.40825     Apartment   \n",
       "2507    Makoto              Sumida Ku  35.70372  139.79744     Apartment   \n",
       "2508    Makoto              Sumida Ku  35.70550  139.79741     Apartment   \n",
       "2509    Makoto              Sumida Ku  35.70534  139.79748     Apartment   \n",
       "\n",
       "            room_type  accommodates  bed_type  price  minimum_nights  \\\n",
       "2225  Entire home/apt             2  Real Bed    0.0              30   \n",
       "2507     Private room             3  Real Bed    0.0               1   \n",
       "2508     Private room             4  Real Bed    0.0               1   \n",
       "2509     Private room             4  Real Bed    0.0               1   \n",
       "\n",
       "      maximum_nights  number_of_reviews last_review  reviews_per_month  \n",
       "2225            1125                 16  2019-07-05               0.67  \n",
       "2507            1125                  4  2018-06-19               0.25  \n",
       "2508            1125                  7  2019-03-25               0.34  \n",
       "2509            1125                  6  2019-03-24               0.30  "
      ]
     },
     "execution_count": 23,
     "metadata": {},
     "output_type": "execute_result"
    }
   ],
   "source": [
    "#Xem cac listings nao chua gia tri min\n",
    "min_listings = df_ABListings['price'].min()\n",
    "df_ABListings[df_ABListings['price']==min_listings]"
   ]
  },
  {
   "cell_type": "code",
   "execution_count": 24,
   "metadata": {},
   "outputs": [
    {
     "data": {
      "text/html": [
       "<div>\n",
       "<style scoped>\n",
       "    .dataframe tbody tr th:only-of-type {\n",
       "        vertical-align: middle;\n",
       "    }\n",
       "\n",
       "    .dataframe tbody tr th {\n",
       "        vertical-align: top;\n",
       "    }\n",
       "\n",
       "    .dataframe thead th {\n",
       "        text-align: right;\n",
       "    }\n",
       "</style>\n",
       "<table border=\"1\" class=\"dataframe\">\n",
       "  <thead>\n",
       "    <tr style=\"text-align: right;\">\n",
       "      <th></th>\n",
       "      <th>id</th>\n",
       "      <th>name</th>\n",
       "      <th>host_id</th>\n",
       "      <th>host_name</th>\n",
       "      <th>neighbourhood_cleansed</th>\n",
       "      <th>latitude</th>\n",
       "      <th>longitude</th>\n",
       "      <th>property_type</th>\n",
       "      <th>room_type</th>\n",
       "      <th>accommodates</th>\n",
       "      <th>bed_type</th>\n",
       "      <th>price</th>\n",
       "      <th>minimum_nights</th>\n",
       "      <th>maximum_nights</th>\n",
       "      <th>number_of_reviews</th>\n",
       "      <th>last_review</th>\n",
       "      <th>reviews_per_month</th>\n",
       "    </tr>\n",
       "  </thead>\n",
       "  <tbody>\n",
       "    <tr>\n",
       "      <th>3387</th>\n",
       "      <td>23906965</td>\n",
       "      <td>Uhome Kanda Hotel, one stop to Tokyo sta. KD301</td>\n",
       "      <td>73463626</td>\n",
       "      <td>Hara</td>\n",
       "      <td>Chiyoda Ku</td>\n",
       "      <td>35.69401</td>\n",
       "      <td>139.77259</td>\n",
       "      <td>Apartment</td>\n",
       "      <td>Entire home/apt</td>\n",
       "      <td>4</td>\n",
       "      <td>Real Bed</td>\n",
       "      <td>999961.0</td>\n",
       "      <td>1</td>\n",
       "      <td>1125</td>\n",
       "      <td>50</td>\n",
       "      <td>2019-08-27</td>\n",
       "      <td>2.99</td>\n",
       "    </tr>\n",
       "    <tr>\n",
       "      <th>3388</th>\n",
       "      <td>23907412</td>\n",
       "      <td>Uhome Kanda Hotel, one stop to Tokyo sta. KD401</td>\n",
       "      <td>73463626</td>\n",
       "      <td>Hara</td>\n",
       "      <td>Chiyoda Ku</td>\n",
       "      <td>35.69430</td>\n",
       "      <td>139.77390</td>\n",
       "      <td>Apartment</td>\n",
       "      <td>Entire home/apt</td>\n",
       "      <td>3</td>\n",
       "      <td>Real Bed</td>\n",
       "      <td>999961.0</td>\n",
       "      <td>1</td>\n",
       "      <td>1125</td>\n",
       "      <td>20</td>\n",
       "      <td>2019-07-03</td>\n",
       "      <td>1.19</td>\n",
       "    </tr>\n",
       "    <tr>\n",
       "      <th>3389</th>\n",
       "      <td>23907725</td>\n",
       "      <td>Uhome Kanda Hotel, one stop to Tokyo sta KD302</td>\n",
       "      <td>73463626</td>\n",
       "      <td>Hara</td>\n",
       "      <td>Chiyoda Ku</td>\n",
       "      <td>35.69423</td>\n",
       "      <td>139.77322</td>\n",
       "      <td>Apartment</td>\n",
       "      <td>Entire home/apt</td>\n",
       "      <td>2</td>\n",
       "      <td>Real Bed</td>\n",
       "      <td>999961.0</td>\n",
       "      <td>1</td>\n",
       "      <td>1125</td>\n",
       "      <td>54</td>\n",
       "      <td>2019-08-27</td>\n",
       "      <td>3.13</td>\n",
       "    </tr>\n",
       "    <tr>\n",
       "      <th>3391</th>\n",
       "      <td>23907817</td>\n",
       "      <td>Uhome Kanda Hotel, one stop to Tokyo sta. KD502</td>\n",
       "      <td>73463626</td>\n",
       "      <td>Hara</td>\n",
       "      <td>Chiyoda Ku</td>\n",
       "      <td>35.69277</td>\n",
       "      <td>139.77302</td>\n",
       "      <td>Apartment</td>\n",
       "      <td>Entire home/apt</td>\n",
       "      <td>1</td>\n",
       "      <td>Real Bed</td>\n",
       "      <td>999961.0</td>\n",
       "      <td>1</td>\n",
       "      <td>1125</td>\n",
       "      <td>15</td>\n",
       "      <td>2019-08-26</td>\n",
       "      <td>0.89</td>\n",
       "    </tr>\n",
       "    <tr>\n",
       "      <th>3630</th>\n",
       "      <td>24636377</td>\n",
       "      <td>Uhome Kanda Hotel, one stop to Tokyo sta. KD501</td>\n",
       "      <td>73463626</td>\n",
       "      <td>Hara</td>\n",
       "      <td>Chiyoda Ku</td>\n",
       "      <td>35.69391</td>\n",
       "      <td>139.77247</td>\n",
       "      <td>Apartment</td>\n",
       "      <td>Entire home/apt</td>\n",
       "      <td>2</td>\n",
       "      <td>Real Bed</td>\n",
       "      <td>999961.0</td>\n",
       "      <td>1</td>\n",
       "      <td>1125</td>\n",
       "      <td>42</td>\n",
       "      <td>2019-08-26</td>\n",
       "      <td>2.64</td>\n",
       "    </tr>\n",
       "    <tr>\n",
       "      <th>5055</th>\n",
       "      <td>27561505</td>\n",
       "      <td>Uhome Ueno Apartment, 3mins to station max8people</td>\n",
       "      <td>73463626</td>\n",
       "      <td>Hara</td>\n",
       "      <td>Taito Ku</td>\n",
       "      <td>35.71025</td>\n",
       "      <td>139.78012</td>\n",
       "      <td>Apartment</td>\n",
       "      <td>Entire home/apt</td>\n",
       "      <td>8</td>\n",
       "      <td>Real Bed</td>\n",
       "      <td>999961.0</td>\n",
       "      <td>2</td>\n",
       "      <td>1125</td>\n",
       "      <td>9</td>\n",
       "      <td>2019-08-11</td>\n",
       "      <td>0.71</td>\n",
       "    </tr>\n",
       "    <tr>\n",
       "      <th>7132</th>\n",
       "      <td>30566901</td>\n",
       "      <td>Uhome Ikebukuro Villa 2, Direct bus to Airport</td>\n",
       "      <td>229186078</td>\n",
       "      <td>Rui</td>\n",
       "      <td>Toshima Ku</td>\n",
       "      <td>35.73575</td>\n",
       "      <td>139.70434</td>\n",
       "      <td>Villa</td>\n",
       "      <td>Entire home/apt</td>\n",
       "      <td>12</td>\n",
       "      <td>Real Bed</td>\n",
       "      <td>999961.0</td>\n",
       "      <td>1</td>\n",
       "      <td>1125</td>\n",
       "      <td>28</td>\n",
       "      <td>2019-08-24</td>\n",
       "      <td>3.39</td>\n",
       "    </tr>\n",
       "    <tr>\n",
       "      <th>7139</th>\n",
       "      <td>30567759</td>\n",
       "      <td>Uhome Ikebukuro Villa 3, 5mn from station</td>\n",
       "      <td>229186078</td>\n",
       "      <td>Rui</td>\n",
       "      <td>Toshima Ku</td>\n",
       "      <td>35.72779</td>\n",
       "      <td>139.70600</td>\n",
       "      <td>Villa</td>\n",
       "      <td>Entire home/apt</td>\n",
       "      <td>10</td>\n",
       "      <td>Real Bed</td>\n",
       "      <td>999961.0</td>\n",
       "      <td>1</td>\n",
       "      <td>1125</td>\n",
       "      <td>16</td>\n",
       "      <td>2019-08-24</td>\n",
       "      <td>1.90</td>\n",
       "    </tr>\n",
       "    <tr>\n",
       "      <th>8401</th>\n",
       "      <td>32369104</td>\n",
       "      <td>Uhome Komagome Apartment 5F6F</td>\n",
       "      <td>73463626</td>\n",
       "      <td>Hara</td>\n",
       "      <td>Toshima Ku</td>\n",
       "      <td>35.73620</td>\n",
       "      <td>139.74666</td>\n",
       "      <td>Apartment</td>\n",
       "      <td>Entire home/apt</td>\n",
       "      <td>16</td>\n",
       "      <td>Real Bed</td>\n",
       "      <td>999961.0</td>\n",
       "      <td>1</td>\n",
       "      <td>1125</td>\n",
       "      <td>15</td>\n",
       "      <td>2019-08-05</td>\n",
       "      <td>2.68</td>\n",
       "    </tr>\n",
       "  </tbody>\n",
       "</table>\n",
       "</div>"
      ],
      "text/plain": [
       "            id                                               name    host_id  \\\n",
       "3387  23906965    Uhome Kanda Hotel, one stop to Tokyo sta. KD301   73463626   \n",
       "3388  23907412    Uhome Kanda Hotel, one stop to Tokyo sta. KD401   73463626   \n",
       "3389  23907725     Uhome Kanda Hotel, one stop to Tokyo sta KD302   73463626   \n",
       "3391  23907817    Uhome Kanda Hotel, one stop to Tokyo sta. KD502   73463626   \n",
       "3630  24636377    Uhome Kanda Hotel, one stop to Tokyo sta. KD501   73463626   \n",
       "5055  27561505  Uhome Ueno Apartment, 3mins to station max8people   73463626   \n",
       "7132  30566901     Uhome Ikebukuro Villa 2, Direct bus to Airport  229186078   \n",
       "7139  30567759          Uhome Ikebukuro Villa 3, 5mn from station  229186078   \n",
       "8401  32369104                      Uhome Komagome Apartment 5F6F   73463626   \n",
       "\n",
       "     host_name neighbourhood_cleansed  latitude  longitude property_type  \\\n",
       "3387      Hara             Chiyoda Ku  35.69401  139.77259     Apartment   \n",
       "3388      Hara             Chiyoda Ku  35.69430  139.77390     Apartment   \n",
       "3389      Hara             Chiyoda Ku  35.69423  139.77322     Apartment   \n",
       "3391      Hara             Chiyoda Ku  35.69277  139.77302     Apartment   \n",
       "3630      Hara             Chiyoda Ku  35.69391  139.77247     Apartment   \n",
       "5055      Hara               Taito Ku  35.71025  139.78012     Apartment   \n",
       "7132       Rui             Toshima Ku  35.73575  139.70434         Villa   \n",
       "7139       Rui             Toshima Ku  35.72779  139.70600         Villa   \n",
       "8401      Hara             Toshima Ku  35.73620  139.74666     Apartment   \n",
       "\n",
       "            room_type  accommodates  bed_type     price  minimum_nights  \\\n",
       "3387  Entire home/apt             4  Real Bed  999961.0               1   \n",
       "3388  Entire home/apt             3  Real Bed  999961.0               1   \n",
       "3389  Entire home/apt             2  Real Bed  999961.0               1   \n",
       "3391  Entire home/apt             1  Real Bed  999961.0               1   \n",
       "3630  Entire home/apt             2  Real Bed  999961.0               1   \n",
       "5055  Entire home/apt             8  Real Bed  999961.0               2   \n",
       "7132  Entire home/apt            12  Real Bed  999961.0               1   \n",
       "7139  Entire home/apt            10  Real Bed  999961.0               1   \n",
       "8401  Entire home/apt            16  Real Bed  999961.0               1   \n",
       "\n",
       "      maximum_nights  number_of_reviews last_review  reviews_per_month  \n",
       "3387            1125                 50  2019-08-27               2.99  \n",
       "3388            1125                 20  2019-07-03               1.19  \n",
       "3389            1125                 54  2019-08-27               3.13  \n",
       "3391            1125                 15  2019-08-26               0.89  \n",
       "3630            1125                 42  2019-08-26               2.64  \n",
       "5055            1125                  9  2019-08-11               0.71  \n",
       "7132            1125                 28  2019-08-24               3.39  \n",
       "7139            1125                 16  2019-08-24               1.90  \n",
       "8401            1125                 15  2019-08-05               2.68  "
      ]
     },
     "execution_count": 24,
     "metadata": {},
     "output_type": "execute_result"
    }
   ],
   "source": [
    "#Xem cac listings nao chua gia tri max\n",
    "max_listings = df_ABListings['price'].max()\n",
    "df_ABListings[df_ABListings['price']==max_listings]"
   ]
  },
  {
   "cell_type": "markdown",
   "metadata": {},
   "source": [
    "Khi xem các listing có giá min (0.0) thì ta thấy listing đó đến từ chủ tên Makoto và Rickie, nó vẫn có luợt khách review nên dường như là chỗ cho thuê phòng này đang thực hiện chương trình \"SALEOFF\", nên nếu đến Nhật Bản thì có thể chọn chỗ này để thuê phòng với giá cực rẻ. Có vẻ như là giá trị max của một vài cột trong dataframe đã bị nhập sai, giá trị sai này đều xuất phát từ 2 người host Hara và Rui. Bởi khi so sánh với giá trị thực thì giá trị max lên đến 999961.0. (tính bằng yên nhật) đổi ra tương đương hơn 218 triệu VNĐ.Do đó, ta tiến hành lọc để có được giá trị cột price phù hợp nhất bằng cách sử dụng tứ phân vị.   \n",
    "\n",
    "Phương pháp tứ phân vị xử lý giá trị vượt quá:( n: số lượng giá trị của dataframe hiện tại = 10716)\n",
    "\n",
    "Bước 1: Sẽ tính điểm phân vị thứ nhất và điểm phân vị thứ 3 theo công thức:\n",
    "\n",
    "Điểm phân vị thứ nhất = 0.25*(n + 1) = 2679.25 = (giá trị điểm thứ 2679 trong dataframe) + 0.25*(giá trị điểm thứ 2680 trong dataframe - giá trị điểm thứ 2679 trong dataframe)\n",
    "\n",
    "Điểm phân vị thứ ba = 0.75*(n + 1) = 8037.75 = (giá trị điểm thứ 8037 trong dataframe) + 0.75*(giá trị điểm thứ 8038 trong dataframe - giá trị điểm thứ 8037 trong dataframe)\n",
    "\n",
    "Bước 2: Tính hệ số IQR theo công thức:\n",
    "\n",
    "IQR = Điểm phân vị thứ ba - Điểm phân vị thứ nhất\n",
    "\n",
    "Bước 3: Tính khoảng giá trị: ngưỡng dưới <= price <= ngưỡng trên\n",
    "\n",
    "Ngưỡng dưới: Điểm phân vị thứ nhất - 1.5*IQR\n",
    "\n",
    "Ngưỡng trên: Điểm phân vị thứ ba + 1.5*IQR\n",
    "\n",
    "Bước 4: Lọc lấy những listing có giá trị cột 'price' thuộc khoảng giá trị vừa tính.\n",
    "\n",
    "Có thể tham khảo cách lọc các giá trị ngoại lai tại đây: https://www.itl.nist.gov/div898/handbook/prc/section1/prc16.htm"
   ]
  },
  {
   "cell_type": "code",
   "execution_count": 25,
   "metadata": {},
   "outputs": [
    {
     "data": {
      "image/png": "[encoded data removed]",
      "text/plain": [
       "<Figure size 432x288 with 1 Axes>"
      ]
     },
     "metadata": {
      "needs_background": "light"
     },
     "output_type": "display_data"
    }
   ],
   "source": [
    "#Pham vi loc: \n",
    "PVPT1 = df_ABListings['price'].quantile(0.25)\n",
    "PVPT3 = df_ABListings['price'].quantile(0.75)\n",
    "IQR = PVPT3 - PVPT1\n",
    "#Tien hanh loc\n",
    "df_ABListings = df_ABListings.query('(@PVPT1 - 1.5 * @IQR) <= price <= (@PVPT3 + 1.5 * @IQR)')\n",
    "#Ve bieu do hien thi gia phong\n",
    "plt.hist(df_ABListings['price'], bins=20);"
   ]
  },
  {
   "cell_type": "markdown",
   "metadata": {},
   "source": [
    "##### Nhận xét: Giá cả của các loại phòng trong Dataframe df_ABListings bị lệch trái nhiều hơn, chủ yếu rơi vào khoảng 5000 - 10000 yên."
   ]
  },
  {
   "cell_type": "markdown",
   "metadata": {},
   "source": [
    "### Tiền xử lí Dataframe df_ABCalendar"
   ]
  },
  {
   "cell_type": "code",
   "execution_count": 26,
   "metadata": {},
   "outputs": [
    {
     "name": "stdout",
     "output_type": "stream",
     "text": [
      "<class 'pandas.core.frame.DataFrame'>\n",
      "RangeIndex: 4539870 entries, 0 to 4539869\n",
      "Data columns (total 7 columns):\n",
      "listing_id        int64\n",
      "date              datetime64[ns]\n",
      "available         object\n",
      "price             float64\n",
      "adjusted_price    float64\n",
      "minimum_nights    int64\n",
      "maximum_nights    int64\n",
      "dtypes: datetime64[ns](1), float64(2), int64(3), object(1)\n",
      "memory usage: 242.5+ MB\n"
     ]
    }
   ],
   "source": [
    "df_ABCalendar.info()"
   ]
  },
  {
   "cell_type": "markdown",
   "metadata": {},
   "source": [
    "Xử lý các giá trị sai."
   ]
  },
  {
   "cell_type": "code",
   "execution_count": 27,
   "metadata": {},
   "outputs": [
    {
     "name": "stdout",
     "output_type": "stream",
     "text": [
      "Gia Tri Max: 12761392.0.\n",
      "Gia Tri Min: 400.0.\n",
      "Gia Tri Mean: 21625.405522404828.\n"
     ]
    }
   ],
   "source": [
    "print('Gia Tri Max: {}.'.format(df_ABCalendar['price'].max()))\n",
    "print('Gia Tri Min: {}.'.format(df_ABCalendar['price'].min()))\n",
    "print('Gia Tri Mean: {}.'.format(df_ABCalendar['price'].mean()))"
   ]
  },
  {
   "cell_type": "markdown",
   "metadata": {},
   "source": [
    "Giá trị max của cột price trong dataframe df_ABCalendar cũng bị nhập sai, chúng ta xử lí tương tự như trên."
   ]
  },
  {
   "cell_type": "code",
   "execution_count": 28,
   "metadata": {},
   "outputs": [
    {
     "data": {
      "image/png": "[encoded data removed]",
      "text/plain": [
       "<Figure size 432x288 with 1 Axes>"
      ]
     },
     "metadata": {
      "needs_background": "light"
     },
     "output_type": "display_data"
    }
   ],
   "source": [
    "PVPTC1 = df_ABCalendar['price'].quantile(0.25)\n",
    "PVPTC3 = df_ABCalendar['price'].quantile(0.75)\n",
    "IQRC = PVPTC3 - PVPTC1\n",
    "#Tien hanh loc\n",
    "df_ABCalendar = df_ABCalendar.query('(@PVPTC1 - 1.5 * @IQRC) <= price <= (@PVPTC3 + 1.5 * @IQRC)')\n",
    "#Ve bieu do hien thi gia phong\n",
    "plt.hist(df_ABCalendar['price'], bins=20);"
   ]
  },
  {
   "cell_type": "markdown",
   "metadata": {},
   "source": [
    "##### Nhận xét: Giá cả của các loại phòng trong Dataframe df_ABLCalendar cũng bị lệch trái nhiều hơn và chủ yếu rơi vào khoảng 5000 - 15000 yên."
   ]
  },
  {
   "cell_type": "markdown",
   "metadata": {},
   "source": [
    "## 4. Đưa ra các câu hỏi cần trả lời:"
   ]
  },
  {
   "cell_type": "markdown",
   "metadata": {},
   "source": [
    "Sau khi đã khám phá dữ liệu và hiểu hơn về dữ liệu, ta thấy có một số câu hỏi có thể được trả lời bằng dữ liệu:\n",
    "- **Câu 1: Những thời điểm nào trong năm thì Tokyo đón khách đông nhất ? Khi đó, Tỷ lệ các phòng cho thuê đuợc lấp đầy là bao nhiêu ? Khi đó, giá phòng sẽ như thế nào ?**\n",
    "\n",
    "Xác định được những thời điểm Tokyo đông khách thì khi bạn lên kế hoạch đến Tokyo thì có thể sắp xếp tránh khoảng thời gian đó ra, bởi vào những khoảng thời gian đó thì thường sẽ xảy ra các tình trạng như thiếu chỗ ở, tăng giá phòng, các chi phí tăng.Còn nếu bắt buộc phải đi vào khoảng thời gian đó thì bạn có thể đặt trước chỗ ở cũng như chuẩn bị mọi thứ để phòng tình huống xảy ra. Điều đó giúp cho chuyến đi của bạn vui vẻ và có thể tiết kiệm được chi phí.\n",
    "- **Câu 2: Loại bất động sản, loại phòng nào là phổ biến nhất, được lựa chọn nhiều nhất ?**\n",
    "\n",
    "Nắm được các loại hình, loại phòng thuê phổ biến, được lựa chọn nhiều để lựa chọn được loại hình, loại phòng thuê phù hợp nhất với điều kiện kinh tế, yêu cầu của bản thân.\n",
    "- **Câu 3: Giá trung bình cho một người khi thuê phòng 1 đêm ở Tokyo ? Giá thuê trung bình đó phụ thuộc như thế nào vào khu vực thuê, vào loại phòng thuê ?**\n",
    "\n",
    "Biết được mức giá trung bình cho việc thuê phòng ở Tokyo, bạn có thể lập bảng chi tiêu cụ thể cho chuyến đi, giúp tiết kiệm chi phí. Còn việc xác định mối quan hệ giữa giá thuê với khu vực, loại phòng thuê giúp bạn tìm ra chỗ thuê phù hợp với điều kiện kinh tế chuyến đi của bạn.\n",
    "- **Câu 4: Khu vực nào có nhiều địa điểm cho thuê nhất và khu vực nào được khách thuê nhiều nhất ?**\n",
    "\n",
    "Nắm được khu vực thuê phổ biến, được lựa chọn nhiều để lựa chọn được khu vực phù hợp nhất với lịch trình di chuyển, điều kiện kinh tế của chuyến đi của bạn."
   ]
  },
  {
   "cell_type": "markdown",
   "metadata": {},
   "source": [
    "### Câu 1: Những thời điểm nào trong năm thì Tokyo đón khách du lịch đông nhất ? Tỷ lệ các phòng cho thuê đuợc lấp đầy là bao nhiêu ? Khi đó, giá phòng sẽ tăng như thế nào ?"
   ]
  },
  {
   "cell_type": "markdown",
   "metadata": {},
   "source": [
    "Để trả lời cho câu hỏi 1 (Ý 1) cần sử dụng tập data Calendar. Trước tiên, cần thực hiện tiền xử lý dữ liệu: thêm vào dataframe 3 cột 'available_t','available_f','available_total' với giá trị được lấy theo cột 'available': nếu 'available' là 't' thì 'available_t'= 1, 'available_f'= 0, 'available' là 'f' thì 'available_t'= 0, 'available_f'= 1 và 'available_total' luôn = 1.\n",
    "\n",
    "Các bước thực hiện: Để xác định những thời điểm (tháng) nào trong năm Tokyo đông khách nhất thì tôi sử dụng một thông số gọi là Tỷ lệ lấp đầy phòng thuê. Thông số này được tính bằng cách lấy trung bình cột 'available_f' theo 2 cột 'year', 'month'.Bên cạnh đó, còn sử dụng một thông số khác là số lượng phòng ở Tokyo theo các tháng trong năm, thông số này được tính bằng cách lấy tổng cột 'available_total' theo 2 cột 'year' và 'month'. Sau đó, tiến hành vẽ biểu đô để thể hiện. Ở đây, tôi chọn loại biểu đồ kết hợp:cột màu xanh thể hiện số phòng có ở Tokyo theo từng tháng trong năm, đường màu đỏ thể hiện tỷ lệ lấp đầy phòng thuê ở Tokyo theo từng tháng trong năm. Quan sát biểu đồ và trả lời câu hỏi.\n"
   ]
  },
  {
   "cell_type": "code",
   "execution_count": 29,
   "metadata": {},
   "outputs": [
    {
     "name": "stdout",
     "output_type": "stream",
     "text": [
      "Tong so lich phong trong: 1677302\n",
      "Tong so lich phong da duoc thue 2489331\n"
     ]
    }
   ],
   "source": [
    "#Tinh tong so lich co phong trong va phong day\n",
    "print('Tong so lich phong trong: {}'.format(df_ABCalendar[df_ABCalendar['available'] == 't']['available'].count()))\n",
    "print('Tong so lich phong da duoc thue {}'.format(df_ABCalendar[df_ABCalendar['available'] == 'f']['available'].count()))"
   ]
  },
  {
   "cell_type": "code",
   "execution_count": 30,
   "metadata": {},
   "outputs": [
    {
     "name": "stdout",
     "output_type": "stream",
     "text": [
      "Quang thoi gian duoc len lich tu 2019-08-31 00:00:00 den 2020-08-29 00:00:00.\n"
     ]
    }
   ],
   "source": [
    "print('Quang thoi gian duoc len lich tu {} den {}.'.format(df_ABCalendar['date'].min(), df_ABCalendar['date'].max()))"
   ]
  },
  {
   "cell_type": "code",
   "execution_count": 31,
   "metadata": {},
   "outputs": [],
   "source": [
    "#Tao cot tuong ung voi gia tri t/f trong cot avaiable\n",
    "df_ABCalendar['available_t'] = df_ABCalendar['available'].apply(lambda x: 1 if x == 't' else 0)\n",
    "df_ABCalendar['available_f'] = df_ABCalendar['available'].apply(lambda x: 1 if x == 'f' else 0)\n",
    "df_ABCalendar['available_total'] = df_ABCalendar['available'].apply(lambda x: 1 if x == 'f' else 1)"
   ]
  },
  {
   "cell_type": "markdown",
   "metadata": {},
   "source": [
    "Thực hiện các bước:"
   ]
  },
  {
   "cell_type": "code",
   "execution_count": 32,
   "metadata": {},
   "outputs": [],
   "source": [
    "#Buoc 1:Tao df_temp tu df_ABCalendar\n",
    "df_temp = df_ABCalendar[['available_t','available_f', 'available_total', 'date']].set_index(df_ABCalendar['date'])\n",
    "df_temp = df_temp.set_index([df_temp.index.year, df_temp.index.month, df_temp.index])\n",
    "df_temp.index.names = ['year', 'month', 'date']\n",
    "#Buoc 2:Tao df_sum_calendar thong qua buoc tinh tong theo thang, nam\n",
    "df_sum_calendar = df_temp.sum(level=['year', 'month'])\n",
    "df_sum_calendar['occupancy rate'] = df_temp['available_f'].mean(level=['year', 'month'])\n",
    "df_sum_calendar = df_sum_calendar.reset_index()\n",
    "#Them cot date tong hop thang, nam\n",
    "df_sum_calendar['year'] = df_sum_calendar['year'].astype('str')\n",
    "df_sum_calendar['month'] = df_sum_calendar['month'].astype('str')\n",
    "df_sum_calendar['date'] = df_sum_calendar['year'].str.cat(df_sum_calendar['month'], sep='-')"
   ]
  },
  {
   "cell_type": "code",
   "execution_count": 33,
   "metadata": {},
   "outputs": [
    {
     "data": {
      "image/png": "[encoded data removed]",
      "text/plain": [
       "<Figure size 432x288 with 2 Axes>"
      ]
     },
     "metadata": {
      "needs_background": "light"
     },
     "output_type": "display_data"
    }
   ],
   "source": [
    "#Buoc 3:Ve bieu do ket hop de the hien\n",
    "fig, ax1 = plt.subplots()\n",
    "plt.xticks(rotation=-70)\n",
    "ax2 = ax1.twinx()\n",
    "ax1.bar(df_sum_calendar['date'].iloc[1:], df_sum_calendar['available_total'].iloc[1:], color=\"#9DE0AD\")\n",
    "ax2.plot(df_sum_calendar['date'].iloc[1:], df_sum_calendar['occupancy rate'].iloc[1:], color=\"#FF8C94\")\n",
    "ax1.set_xlabel('Nam-Thang', fontsize = 14)\n",
    "ax1.set_ylabel('So Luong Phong Co O Tokyo', fontsize = 14)\n",
    "ax2.set_ylabel('Ti Le Lap Day', fontsize = 14);"
   ]
  },
  {
   "cell_type": "markdown",
   "metadata": {},
   "source": [
    "### Trả lời cho câu hỏi 1:(Ý 1 và Ý 2)\n",
    "- Tháng 7 và tháng 8 năm 2020 là 2 tháng Tokyo (Nhật Bản) đón lượng khách đông nhất trong năm. Với tỉ lệ lấp đầy phòng thuê của 2 tháng này đến hơn 85%\n",
    "- Tỉ lê lấp đầy thấp nhất vào khoảng tháng 10,11 năm 2019, tăng cao hơn vào các tháng mùa xuân năm 2020 và tăng liên tục cho đến tháng 7,8.\n",
    "- Số lượng phòng có trên thị trường thì hầu như không thay đổi đáng kể qua các tháng."
   ]
  },
  {
   "cell_type": "markdown",
   "metadata": {},
   "source": [
    "Để trả lời cho câu hỏi 1 (Ý 2) cần sử dụng tiếp tập dữ liệu Calendar.\n",
    "\n",
    "Các bước thực hiện: Để thấy sự được sự thay đổi của giá phòng theo từng tháng trong năm, tôi sử dụng biểu đồ đường đê thể hiện sự thay đổi đó thông qua thông số giá trung bình của phòng thuê theo từng tháng trong năm. Thông số này được tính bằng cách lấy trung bình của cột 'price' theo 2 cột 'year', 'month'. Sau đó, quan sát biểu đồ và trả lời câu hỏi."
   ]
  },
  {
   "cell_type": "code",
   "execution_count": 34,
   "metadata": {},
   "outputs": [
    {
     "data": {
      "text/html": [
       "<div>\n",
       "<style scoped>\n",
       "    .dataframe tbody tr th:only-of-type {\n",
       "        vertical-align: middle;\n",
       "    }\n",
       "\n",
       "    .dataframe tbody tr th {\n",
       "        vertical-align: top;\n",
       "    }\n",
       "\n",
       "    .dataframe thead th {\n",
       "        text-align: right;\n",
       "    }\n",
       "</style>\n",
       "<table border=\"1\" class=\"dataframe\">\n",
       "  <thead>\n",
       "    <tr style=\"text-align: right;\">\n",
       "      <th></th>\n",
       "      <th>year</th>\n",
       "      <th>month</th>\n",
       "      <th>price</th>\n",
       "      <th>adjusted_price</th>\n",
       "      <th>minimum_nights</th>\n",
       "      <th>date</th>\n",
       "    </tr>\n",
       "  </thead>\n",
       "  <tbody>\n",
       "    <tr>\n",
       "      <th>0</th>\n",
       "      <td>2019</td>\n",
       "      <td>8</td>\n",
       "      <td>10766.061781</td>\n",
       "      <td>10630.420391</td>\n",
       "      <td>3.341932</td>\n",
       "      <td>2019-8</td>\n",
       "    </tr>\n",
       "    <tr>\n",
       "      <th>1</th>\n",
       "      <td>2019</td>\n",
       "      <td>9</td>\n",
       "      <td>11246.319239</td>\n",
       "      <td>11205.587493</td>\n",
       "      <td>3.435753</td>\n",
       "      <td>2019-9</td>\n",
       "    </tr>\n",
       "    <tr>\n",
       "      <th>2</th>\n",
       "      <td>2019</td>\n",
       "      <td>10</td>\n",
       "      <td>12452.539817</td>\n",
       "      <td>12464.502884</td>\n",
       "      <td>3.599023</td>\n",
       "      <td>2019-10</td>\n",
       "    </tr>\n",
       "    <tr>\n",
       "      <th>3</th>\n",
       "      <td>2019</td>\n",
       "      <td>11</td>\n",
       "      <td>12531.599784</td>\n",
       "      <td>12536.075986</td>\n",
       "      <td>3.798986</td>\n",
       "      <td>2019-11</td>\n",
       "    </tr>\n",
       "    <tr>\n",
       "      <th>4</th>\n",
       "      <td>2019</td>\n",
       "      <td>12</td>\n",
       "      <td>13443.557710</td>\n",
       "      <td>13514.059320</td>\n",
       "      <td>3.733941</td>\n",
       "      <td>2019-12</td>\n",
       "    </tr>\n",
       "    <tr>\n",
       "      <th>5</th>\n",
       "      <td>2020</td>\n",
       "      <td>1</td>\n",
       "      <td>13241.551526</td>\n",
       "      <td>13259.714177</td>\n",
       "      <td>3.779896</td>\n",
       "      <td>2020-1</td>\n",
       "    </tr>\n",
       "    <tr>\n",
       "      <th>6</th>\n",
       "      <td>2020</td>\n",
       "      <td>2</td>\n",
       "      <td>12867.122379</td>\n",
       "      <td>12858.554030</td>\n",
       "      <td>3.749783</td>\n",
       "      <td>2020-2</td>\n",
       "    </tr>\n",
       "    <tr>\n",
       "      <th>7</th>\n",
       "      <td>2020</td>\n",
       "      <td>3</td>\n",
       "      <td>13284.911109</td>\n",
       "      <td>13302.409984</td>\n",
       "      <td>3.698311</td>\n",
       "      <td>2020-3</td>\n",
       "    </tr>\n",
       "    <tr>\n",
       "      <th>8</th>\n",
       "      <td>2020</td>\n",
       "      <td>4</td>\n",
       "      <td>13416.986376</td>\n",
       "      <td>13464.440898</td>\n",
       "      <td>3.464122</td>\n",
       "      <td>2020-4</td>\n",
       "    </tr>\n",
       "    <tr>\n",
       "      <th>9</th>\n",
       "      <td>2020</td>\n",
       "      <td>5</td>\n",
       "      <td>13052.161754</td>\n",
       "      <td>13059.518355</td>\n",
       "      <td>3.480474</td>\n",
       "      <td>2020-5</td>\n",
       "    </tr>\n",
       "    <tr>\n",
       "      <th>10</th>\n",
       "      <td>2020</td>\n",
       "      <td>6</td>\n",
       "      <td>12984.662230</td>\n",
       "      <td>12980.681395</td>\n",
       "      <td>3.503379</td>\n",
       "      <td>2020-6</td>\n",
       "    </tr>\n",
       "    <tr>\n",
       "      <th>11</th>\n",
       "      <td>2020</td>\n",
       "      <td>7</td>\n",
       "      <td>13399.047552</td>\n",
       "      <td>13476.815499</td>\n",
       "      <td>3.467428</td>\n",
       "      <td>2020-7</td>\n",
       "    </tr>\n",
       "    <tr>\n",
       "      <th>12</th>\n",
       "      <td>2020</td>\n",
       "      <td>8</td>\n",
       "      <td>13195.277930</td>\n",
       "      <td>13274.900174</td>\n",
       "      <td>3.530045</td>\n",
       "      <td>2020-8</td>\n",
       "    </tr>\n",
       "  </tbody>\n",
       "</table>\n",
       "</div>"
      ],
      "text/plain": [
       "    year month         price  adjusted_price  minimum_nights     date\n",
       "0   2019     8  10766.061781    10630.420391        3.341932   2019-8\n",
       "1   2019     9  11246.319239    11205.587493        3.435753   2019-9\n",
       "2   2019    10  12452.539817    12464.502884        3.599023  2019-10\n",
       "3   2019    11  12531.599784    12536.075986        3.798986  2019-11\n",
       "4   2019    12  13443.557710    13514.059320        3.733941  2019-12\n",
       "5   2020     1  13241.551526    13259.714177        3.779896   2020-1\n",
       "6   2020     2  12867.122379    12858.554030        3.749783   2020-2\n",
       "7   2020     3  13284.911109    13302.409984        3.698311   2020-3\n",
       "8   2020     4  13416.986376    13464.440898        3.464122   2020-4\n",
       "9   2020     5  13052.161754    13059.518355        3.480474   2020-5\n",
       "10  2020     6  12984.662230    12980.681395        3.503379   2020-6\n",
       "11  2020     7  13399.047552    13476.815499        3.467428   2020-7\n",
       "12  2020     8  13195.277930    13274.900174        3.530045   2020-8"
      ]
     },
     "execution_count": 34,
     "metadata": {},
     "output_type": "execute_result"
    }
   ],
   "source": [
    "#Tao df_cprice_temp tu df_ABCalendar\n",
    "df_cprice_temp = df_ABCalendar[['price','adjusted_price', 'date', 'minimum_nights']].set_index(df_ABCalendar['date'])\n",
    "df_cprice_temp = df_cprice_temp.set_index([df_cprice_temp.index.year, df_cprice_temp.index.month, df_cprice_temp.index])\n",
    "df_cprice_temp.index.names = ['year', 'month', 'date']\n",
    "#Tao df_agv_price_calendar thong qua buoc tinh trung binh theo thang, nam\n",
    "df_avg_price_calendar = df_cprice_temp.mean(level=['year', 'month'])\n",
    "df_avg_price_calendar = df_avg_price_calendar.reset_index()\n",
    "#Them cot date tong hop thang, nam\n",
    "df_avg_price_calendar['year'] = df_avg_price_calendar['year'].astype('str')\n",
    "df_avg_price_calendar['month'] = df_avg_price_calendar['month'].astype('str')\n",
    "df_avg_price_calendar['date'] = df_avg_price_calendar['year'].str.cat(df_avg_price_calendar['month'], sep='-')\n",
    "df_avg_price_calendar"
   ]
  },
  {
   "cell_type": "code",
   "execution_count": 35,
   "metadata": {},
   "outputs": [
    {
     "data": {
      "text/plain": [
       "Text(0, 0.5, 'Gia phong trung binh')"
      ]
     },
     "execution_count": 35,
     "metadata": {},
     "output_type": "execute_result"
    },
    {
     "data": {
      "image/png": "[encoded data removed]",
      "text/plain": [
       "<Figure size 432x288 with 1 Axes>"
      ]
     },
     "metadata": {
      "needs_background": "light"
     },
     "output_type": "display_data"
    }
   ],
   "source": [
    "#Ve bieu do ket hop de the hien\n",
    "plt.plot(df_avg_price_calendar['date'].iloc[1:], df_avg_price_calendar['price'].iloc[1:])\n",
    "plt.xticks(rotation=-70)\n",
    "plt.xlabel('Nam-Thang', fontsize=12)\n",
    "plt.ylabel('Gia phong trung binh', fontsize=12)"
   ]
  },
  {
   "cell_type": "markdown",
   "metadata": {},
   "source": [
    "### Trả lời cho câu hỏi 1: (Ý 3)\n",
    "- Giá trong khoảng thời gian mà Tokyo đón nhận nhiều khách du lịch (tháng 7-8 năm 2020) có tăng nhưng đến tháng 8 thì bắt đầu giảm xuống.\n",
    "- Giá phòng liên tục tăng thì tháng 9 năm 2019, sau đó có giảm xuống nhưng đến tháng 2 năm 2020 thì có dấu hiện tăng lại. Giá phòng luôn tăng giảm không ổn định.\n",
    "- Giá phòng và giá sau điều chỉnh thì hầu như không có sự khác biệt."
   ]
  },
  {
   "cell_type": "markdown",
   "metadata": {},
   "source": [
    "### Câu 2: Loại bất động sản, loại phòng nào phổ biến nhất, được lựa chọn nhiều nhất ?"
   ]
  },
  {
   "cell_type": "markdown",
   "metadata": {},
   "source": [
    "Để trả lời cho câu hỏi 2 (Ý 1) cần sử dụng tập dữ liệu Listings.\n",
    "\n",
    "Các bước thực hiện: Để xác định được loại bất động sản nào phổ biến nhất, được thuê nhiều  người nhất, tôi sử dụng 2 thông số để thể hiện: Tỷ lệ lấp đầy phòng thuê theo loại bất động sản cho thuê (được nhiều người thuê) và tỷ lệ số lượng bất động sản (phổ biến nhất). \n",
    "\n",
    "Để tính được tỷ lệ lấp đầy phòng thuê: đầu tiên, tiến hành gom nhóm tính tổng 2 cột 'available_f', 'available_total' theo cột listing_id' và lưu kết quả vào một dataframe (temp), sau đó thêm vào temp này cột 'occupancy_rate' (tỷ lệ lấp đầy) và dữ liệu của cột này được tính bằng cách lấy cột 'available_f' chia cho cột 'available_total'. Kế tiếp, tạo một dataframe mới (Listings_New) bằng việc lấy hợp của 2 dataframe Listings và temp. Cuối cùng thực hiệm gom nhóm tính trung bình cột 'occupancy_rate' theo cột 'property_type' thì ta có được dữ liệu tỷ lệ lấp đầy phòng thuê theo loại bất động sản thuê và tiến hành vẽ biểu đồ để thể hiện rõ hơn.\n",
    "\n",
    "Để tính được tỷ lệ số lượng bất động sản cho thuê: đầu tiên, đếm số lượng từng giá trị (khác Nan) trong cột 'property_type'. Sau đó lấy kết quả này chia cho số lượng listing có trong dữ liệu hiện tại (sô lượng dòng data). Cuối cùng tiến hành vẽ biểu đồ để thể hiện rõ ràng hơn.\n",
    "\n",
    "Quan sát biểu đồ và trả lời câu hỏi."
   ]
  },
  {
   "cell_type": "code",
   "execution_count": 36,
   "metadata": {},
   "outputs": [],
   "source": [
    "#Tao dataframe df_ABListings_New là tong hop cua df_ABListings và df_ABCalendar (3 cot)\n",
    "df_groupby_temp = df_ABCalendar.groupby('listing_id')[['available_f', 'available_total']].sum()\n",
    "df_groupby_temp['occupancy_rate'] = df_groupby_temp.available_f/df_groupby_temp.available_total\n",
    "df_groupby_temp = df_groupby_temp.reset_index()\n",
    "df_ABListings_New = pd.merge(df_ABListings, df_groupby_temp, how='left', left_on='id', right_on='listing_id')"
   ]
  },
  {
   "cell_type": "code",
   "execution_count": 37,
   "metadata": {},
   "outputs": [
    {
     "data": {
      "image/png": "[encoded data removed]",
      "text/plain": [
       "<Figure size 432x288 with 1 Axes>"
      ]
     },
     "metadata": {
      "needs_background": "light"
     },
     "output_type": "display_data"
    },
    {
     "data": {
      "image/png": "[encoded data removed]",
      "text/plain": [
       "<Figure size 432x288 with 1 Axes>"
      ]
     },
     "metadata": {
      "needs_background": "light"
     },
     "output_type": "display_data"
    }
   ],
   "source": [
    "#Ve bieu do the hien ti le cua tung loai hinh bat dong san cho thue\n",
    "plt.figure()\n",
    "plt.xticks(rotation=90)\n",
    "sns.barplot(x=df_ABListings_New.property_type.value_counts().index, y=df_ABListings_New.property_type.value_counts()/df_ABListings.shape[0], palette = 'viridis')\n",
    "plt.title(\"Loai Hinh Bat Dong San Cho Thue\")\n",
    "#Tao mot dataframe chua ti le lap day theo cac loai hinh tai san cho thue\n",
    "df_Property_Type_Occu = pd.DataFrame(df_ABListings_New.groupby('property_type').occupancy_rate.mean())\n",
    "df_Property_Type_Occu = df_Property_Type_Occu.sort_values(by=['occupancy_rate'], ascending=False)\n",
    "#Ve bieu do the hien ti le lap day cua tung loai hinh bat dong san\n",
    "plt.figure()\n",
    "plt.xticks(rotation=90)\n",
    "plt.bar(df_Property_Type_Occu.index, df_Property_Type_Occu.occupancy_rate, color='#FF8C94')\n",
    "plt.title(\"Loai Hinh Bat Dong San - Ti Le Lap Day\");"
   ]
  },
  {
   "cell_type": "markdown",
   "metadata": {},
   "source": [
    "### Trả lời cho câu hỏi 2:(Ý 1)\n",
    "\n",
    "- Loại hình bất động sản đem đi cho thuê nhiều nhất là: Apartment (Căn Hộ) nhưng tỉ lệ lấp đầy của loại hình này không cao chưa đến 60%.\n",
    "- Trong đó, 5 loại hình bất động sản được thuê nhiều nhất là: Nature lodge, Dome house, Tent, Cabin, Tiny House."
   ]
  },
  {
   "cell_type": "markdown",
   "metadata": {},
   "source": [
    "Để trả lời cho câu hỏi 2 (Ý 2) cần sử dụng tiếp các dataframe tạo ở trên.\n",
    "\n",
    "Các bước thực hiện: Để xác định được loại phòng nào phổ biến nhất, được thuê nhiều người nhất, tôi sử dụng 2 thông số để thể hiện: Tỷ lệ lấp đầy phòng thuê theo loại phòng cho thuê (được nhiều người thuê) và tỷ lệ số lượng phòng thuê (phổ biến nhất). \n",
    "\n",
    "Các bước làm tương tự như Câu 2 (Ý 1 ở trên),thay vì sử dụng cột 'property_type' thì sử dụng cột 'room_type'."
   ]
  },
  {
   "cell_type": "code",
   "execution_count": 38,
   "metadata": {},
   "outputs": [
    {
     "data": {
      "image/png": "[encoded data removed]",
      "text/plain": [
       "<Figure size 432x288 with 1 Axes>"
      ]
     },
     "metadata": {
      "needs_background": "light"
     },
     "output_type": "display_data"
    },
    {
     "data": {
      "image/png": "[encoded data removed]",
      "text/plain": [
       "<Figure size 432x288 with 1 Axes>"
      ]
     },
     "metadata": {
      "needs_background": "light"
     },
     "output_type": "display_data"
    }
   ],
   "source": [
    "#Ve bieu do the hien ti le cua tung loai phong\n",
    "plt.figure()\n",
    "sns.barplot(df_ABListings_New.room_type.value_counts().index, df_ABListings_New.room_type.value_counts()/df_ABListings.shape[0], palette = 'viridis')\n",
    "plt.title(\"Loai Phong\")\n",
    "#Tao mot dataframe chua cac ti le lap day theo tung loai phong cho thue\n",
    "df_Room_Type_Occu = pd.DataFrame(df_ABListings_New.groupby('room_type').occupancy_rate.mean())\n",
    "df_Room_Type_Occu = df_Room_Type_Occu.sort_values(by=['occupancy_rate'], ascending=False)\n",
    "#Ve bieu do the hien ti le lap day cua tung loai phong\n",
    "plt.figure()\n",
    "plt.bar(df_Room_Type_Occu.index, df_Room_Type_Occu.occupancy_rate, color='#FF737C')\n",
    "plt.title(\"Loai Phong - Ti Le Lap Day\");"
   ]
  },
  {
   "cell_type": "markdown",
   "metadata": {},
   "source": [
    "### Trả lời cho câu hỏi 2: (Ý 2)\n",
    "- Số lượng phòng được cho thuê nhiều nhất là Entire home/apt nhưng tỉ lệ lấp đầy của loại phòng này thì không phải là cao nhất.\n",
    "- Loại phòng được thuê nhiều nhất,phổ biến nhất là: Private room với tỉ lệ lấp đầy hơn 60%."
   ]
  },
  {
   "cell_type": "markdown",
   "metadata": {},
   "source": [
    "### Câu 3: Giá trung bình cho một người khi thuê phòng ở Tokyo ? Giá thuê trung bình đó phụ thuộc như thế nào vào khu vực thuê, vào loại phòng thuê ? "
   ]
  },
  {
   "cell_type": "markdown",
   "metadata": {},
   "source": [
    "Để giải quyết được ý 1 câu hỏi 3 thì trước hết cần tính giá trung bình của một listing bằng công thức: giá của một listing chia cho số người ở của listing đó,sau đó thêm cột giá trung bình đó vào dataframe. Lấy trung bình của cột vừa thêm chính là chi phí trung bình một người phải trả khi thuê phòng 1 đêm ở Tokyo."
   ]
  },
  {
   "cell_type": "code",
   "execution_count": 39,
   "metadata": {},
   "outputs": [
    {
     "name": "stdout",
     "output_type": "stream",
     "text": [
      "Gia trung binh: 3308.\n"
     ]
    }
   ],
   "source": [
    "df_ABListings['price_avg'] = df_ABListings.price/df_ABListings.accommodates\n",
    "print('Gia trung binh: {}.'.format(round(df_ABListings['price_avg'].mean())))"
   ]
  },
  {
   "cell_type": "markdown",
   "metadata": {},
   "source": [
    "### Trả lời cho câu hỏi 3: (Ý 1)\n",
    "- Giá trung bình cho một người khi thuê phòng ở Tokyo: 3308 yên."
   ]
  },
  {
   "cell_type": "markdown",
   "metadata": {},
   "source": [
    "Để thể hiện mối liên hệ giữa giá trung bình (1 người thuê) với khu vực thuê phòng thì ta sẽ vẽ biểu đồ đưa ra nhận xét, thông số của biểu đồ mà tôi sử dụng là giá trung bình của một người thuê phòng 1 đêm ở Tokyo theo từng khu vực. Thông số này được tính bằng cách thực hiện gom nhóm tính trung bình cột 'price_avg' (cột vừa được thêm ở ý 1) theo cột 'neighbourhood_cleansed'.Sau đó, sắp xếp dữ liệu tăng dần và vẽ biểu đồ để quan sát thuận tiện hơn. "
   ]
  },
  {
   "cell_type": "code",
   "execution_count": 40,
   "metadata": {},
   "outputs": [
    {
     "data": {
      "text/plain": [
       "<Figure size 432x288 with 0 Axes>"
      ]
     },
     "metadata": {},
     "output_type": "display_data"
    },
    {
     "data": {
      "image/png": "[encoded data removed]",
      "text/plain": [
       "<Figure size 1008x288 with 1 Axes>"
      ]
     },
     "metadata": {
      "needs_background": "light"
     },
     "output_type": "display_data"
    }
   ],
   "source": [
    "df_Neighbourhood_Cleansed_priceavg = pd.DataFrame(df_ABListings.groupby('neighbourhood_cleansed').price_avg.mean())\n",
    "df_Neighbourhood_Cleansed_priceavg.sort_values('price_avg' ,ascending=True, inplace=True)\n",
    "plt.figure()\n",
    "plt.figure(figsize=(14, 4))\n",
    "plt.xticks(rotation=90)\n",
    "plt.bar(df_Neighbourhood_Cleansed_priceavg.index, df_Neighbourhood_Cleansed_priceavg.price_avg, color='#66383B')\n",
    "plt.title(\"Khu Vuc - Gia Trung Binh\");"
   ]
  },
  {
   "cell_type": "markdown",
   "metadata": {},
   "source": [
    "### Trả lời cho câu hỏi số 3:(Ý 2)\n",
    "- Giá thuê trung bình (1 người) ở khu vực ngoại thành Tokyo sẽ rẻ hơn nhiều so với các quận thuộc nội thành.\n",
    "- Làng Hinohara Mura có giá thuê trung bình đắt nhất do đây là làng du lịch nổi tiếng ở Tokyo (Nhật Bản).\n",
    "- Top 5 khu vực có giá thuê rẻ nhất nhất: Akiruno Shi, Ome Shi, Musashimurayama Shi, Kunitachi Shi, Hamura Shi,.."
   ]
  },
  {
   "cell_type": "markdown",
   "metadata": {},
   "source": [
    "Để thể hiện mối liên hệ giữa giá trung bình (1 người thuê) với từng loại phòng thuê thì tôi sẽ vẽ biểu đồ đưa ra nhận xét, thông số của biểu đồ mà tôi sử dụng là giá trung bình của một người thuê phòng 1 đêm ở Tokyo theo từng loại phòng. Thông số này được tính bằng cách thực hiện gom nhóm tính trung bình cột 'price_avg' (cột vừa được thêm ở ý 1) theo cột 'room_type'.Sau đó, sắp xếp dữ liệu tăng dần và vẽ biểu đồ để quan sát thuận tiện hơn. "
   ]
  },
  {
   "cell_type": "code",
   "execution_count": 41,
   "metadata": {},
   "outputs": [
    {
     "data": {
      "image/png": "[encoded data removed]",
      "text/plain": [
       "<Figure size 432x288 with 1 Axes>"
      ]
     },
     "metadata": {
      "needs_background": "light"
     },
     "output_type": "display_data"
    }
   ],
   "source": [
    "df_Room_Type_priceavg = pd.DataFrame(df_ABListings.groupby('room_type').price_avg.mean())\n",
    "df_Room_Type_priceavg.sort_values('price_avg' ,ascending=True, inplace=True)\n",
    "plt.figure()\n",
    "plt.xticks(rotation=90)\n",
    "plt.bar(df_Room_Type_priceavg.index, df_Room_Type_priceavg.price_avg, color='#FF404D')\n",
    "plt.title(\"Loai Phong - Gia Trung Binh\");"
   ]
  },
  {
   "cell_type": "markdown",
   "metadata": {},
   "source": [
    "### Trả lời cho câu hỏi 3:(Ý 3)\n",
    "- Trong 4 loại phòng thuê, thì loại Shared room là loại có giá thuê rẻ nhất, kế đến là Hotel room, và giá thuê đắt nhất Private room và Entire home/apt. Sở dĩ, Shared room có giá rẻ là do người thuê phải ở chung với nhau cùng một phòng và số người ở có thể lên đến 9 người, 16 người.Còn giá thuê Entire home/apt đắt nhất vì người thuê sẽ được ở trong một Căn hộ với đầy đủ tiện nghi. Dựa vào kết quả phân tích trên, bạn có thể lựa chọn loại phòng phù hợp với điều kiện và yêu cầu của mình. \n"
   ]
  },
  {
   "cell_type": "markdown",
   "metadata": {},
   "source": [
    "### Câu 4: Khu vực  nào có nhiều địa điểm cho thuê nhất và khu vực  nào được khách thuê nhiều nhất ?"
   ]
  },
  {
   "cell_type": "markdown",
   "metadata": {},
   "source": [
    "Để trả lời cho câu hỏi 4 cần sử dụng tiếp các dataframe tạo ở câu 2.\n",
    "\n",
    "Các bước thực hiện: \n",
    "\n",
    "Bước 1:Vẽ biểu đồ thể hiện tỷ lệ của các khu vực ở Tokyo với: thanh x chứa dữ liệu cột 'neighbourhood_cleansed' (tên khu vực cho thuê phòng), thanh y chứa dữ liệu tỷ lệ các khu vực được tính bằng công thức: số lượng từng loại khu vực/ tổng số listings của data hiện tại (tổng số dòng). Quan sát biểu đồ và trả lời câu hỏi.\n",
    "\n",
    "Bước 3: Tạo dataframe df_Neighbourhood_Cleansed_Occu với 2 cột:'neighbourhood_cleansed','occupancy_rate' với dữ liệu được lấy bằng cách gom nhóm lấy giá trị trung bình của cột 'occupancy_rate' theo cột 'neighbourhood_cleansed'.Sau đó, sắp xếp dữ liệu của dataframe giảm dần. Vẽ biểu đồ để thể hiện tỷ lệ lấp đầy phòng thuê của các khu vực ở Tokyo với: thanh x chứa dữ liệu cột 'neighbourhood_cleansed' (tên các khu vực cho thuê phòng), thanh y chứa dữ liệu cột 'occupancy_rate' (tỷ lệ lấp đầy phòng thuê theo từng khu vực ở Tokyo). Quan sát biểu đồ trả lời câu hỏi."
   ]
  },
  {
   "cell_type": "code",
   "execution_count": null,
   "metadata": {},
   "outputs": [],
   "source": []
  }
 ],
 "metadata": {
  "kernelspec": {
   "display_name": "Python 3",
   "language": "python",
   "name": "python3"
  },
  "language_info": {
   "codemirror_mode": {
    "name": "ipython",
    "version": 3
   },
   "file_extension": ".py",
   "mimetype": "text/x-python",
   "name": "python",
   "nbconvert_exporter": "python",
   "pygments_lexer": "ipython3",
   "version": "3.7.1"
  }
 },
 "nbformat": 4,
 "nbformat_minor": 2
}
