{
 "cells": [
  {
   "cell_type": "markdown",
   "metadata": {},
   "source": [
    "# ĐỒ ÁN CUỐI KỲ MÔN HỌC LẬP TRÌNH KHOA HỌC DỮ LIỆU\n",
    "\n",
    "# PHÂN TÍCH DỮ LIỆU AIRNBN TẠI TOKYO NHẬT BẢN (2019 - 2020)\n",
    "\n",
    "GVHD: TRẦN TRUNG KIÊN - PHAN THỊ PHƯƠNG UYÊN\n",
    "\n",
    "HỌ VÀ TÊN: NGUYỄN THỊ TUYẾT\n",
    "\n",
    "MSSV: 1712892"
   ]
  },
  {
   "cell_type": "markdown",
   "metadata": {},
   "source": [
    "## I. TỔNG QUAN VỀ ĐỀ TÀI PHÂN TÍCH\n",
    "\n",
    " ## Đề tài: Phân tích dữ liệu AIRBNB tại Tokyo (Nhật Bản) \n",
    " **Định nghĩa AIRBNB là gì?**\n",
    " \n",
    " Airbnb là viết tắt của cụm từ AirBed and Breakfast – một start-up với mô hình kinh doanh kết nối người cần thuê nhà, đặt phòng nghỉ với những người có phòng cho thuê trên khắp thế giới thông qua ứng dụng di động. Tất cả việc thanh toán sẽ được thực hiện thông qua Airbnb, sử dụng thẻ tín dụng và nhà trung gian này sẽ thu một khoản phí đối với cả người cần đặt phòng và chủ nhà. \n",
    " \n",
    " Tháng 8/2008, hai sinh viên ngành Thiết kế tại San Francisco đã chia một phần căn hộ mình ra cho khách du lịch thuê. Sau đó, khi nhận thấy tiềm năng của mô hình này, hai sinh viên đã kêu gọi thêm những người bạn của mình thành lập website, phát triển Airbnb thành một địa chỉ đặt phòng uy tín, được nhiều người lựa chọn. Hiện tại, Airbnb đã có mặt ở hơn 190 quốc gia.\n",
    "\n",
    "**Lí do chọn đề tài**\n",
    "\n",
    "Nếu là một tín đồ của du lịch thì chắc hẳn việc \"đau đầu\" mà chúng ta gặp phải khi lên kế hoạch cho chuyến du lịch luôn là việc tìm chỗ \"dừng chân\" thích hợp trong suốt chuyến đi. Mọi chuyện sẽ trở nên dễ dàng hơn nếu bạn sử dụng AIRBNB. Vì thế, tôi chọn đề tài này để phân tích nhằm giúp bản thân cũng như mọi người hiểu rõ hơn về AIRBNB, góp phần giúp AIRBNB trở nên phổ biến hơn ở Việt Nam trong tương lai. Vì sao lại chọn dữ liệu AIRBNB tại Nhật Bản ? Do AIRBNB vẫn chưa phát triển mạnh ở Việt Nam nên chưa có số liệu thống kê tại Việt Nam, bên cạnh đó thì trong khu vực Châu Á, Nhật bản là một trong những quốc gia có nền du lịch phát triển nhất, hằng năm đều thu hút một lượng lớn khách du lịch đổ về."
   ]
  },
  {
   "cell_type": "markdown",
   "metadata": {},
   "source": [
    "# II. TIẾN HÀNH PHÂN TÍCH DỮ LIỆU\n",
    "\n",
    "## 1. Lấy dữ liệu:\n",
    "\n",
    "- Dữ liệu đuợc sử dụng trong đồ án này là file \"listings.csv\" và file \"calendar.csv\"(bản được update vào 30/08/2019). \"listings.csv\" là dữ liệu của Airbnb về danh sách các địa điểm cho thuê phòng ở Tokyo (Nhật Bản) bao gồm những thông tin chủ yếu như: Tên chủ cho thuê, Địa chỉ cho thuê, Loại Phòng, Giá Tiền, Đánh giá của khách,...  Còn \"calendar.csv\" là dữ liệu lịch cho các danh sách địa điểm cho thuê bao gồm:những ngày phòng còn trống, giá thuê phòng mỗi ngày,.. Nguồn dữ liệu được lấy tại http://insideairbnb.com/get-the-data.html"
   ]
  },
  {
   "cell_type": "markdown",
   "metadata": {},
   "source": [
    "## 2. Khám phá dữ liệu:"
   ]
  },
  {
   "cell_type": "markdown",
   "metadata": {},
   "source": [
    "### Import"
   ]
  },
  {
   "cell_type": "code",
   "execution_count": 1,
   "metadata": {},
   "outputs": [],
   "source": [
    "import numpy as np\n",
    "import pandas as pd\n",
    "import matplotlib.pyplot as plt\n",
    "import seaborn as sns"
   ]
  },
  {
   "cell_type": "code",
   "execution_count": null,
   "metadata": {},
   "outputs": [],
   "source": []
  }
 ],
 "metadata": {
  "kernelspec": {
   "display_name": "Python 3",
   "language": "python",
   "name": "python3"
  },
  "language_info": {
   "codemirror_mode": {
    "name": "ipython",
    "version": 3
   },
   "file_extension": ".py",
   "mimetype": "text/x-python",
   "name": "python",
   "nbconvert_exporter": "python",
   "pygments_lexer": "ipython3",
   "version": "3.7.1"
  }
 },
 "nbformat": 4,
 "nbformat_minor": 2
}
